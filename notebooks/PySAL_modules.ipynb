{
 "cells": [
  {
   "cell_type": "markdown",
   "metadata": {},
   "source": [
    "# Contributors to this notebook\n",
    "\n",
    "* Daniel Arribas-Bel [@darribas](http://twitter.com/darribas)\n",
    "* Serge Rey http://sjrey.org"
   ]
  },
  {
   "cell_type": "code",
   "execution_count": 3,
   "metadata": {
    "collapsed": false
   },
   "outputs": [],
   "source": [
    "import pysal as ps  # 1.5 or higher\n",
    "import pandas as pd # 0.10 or higher\n",
    "import numpy as np"
   ]
  },
  {
   "cell_type": "markdown",
   "metadata": {},
   "source": [
    "# Specialized modules in `PySAL`"
   ]
  },
  {
   "cell_type": "markdown",
   "metadata": {},
   "source": [
    "Before we brush through more specialized functionality in `PySAL`, let's load up example data:"
   ]
  },
  {
   "cell_type": "code",
   "execution_count": 4,
   "metadata": {
    "collapsed": false
   },
   "outputs": [
    {
     "name": "stdout",
     "output_type": "stream",
     "text": [
      "WARNING: there is one disconnected observation (no neighbors)\n",
      "Island id:  ['27']\n"
     ]
    }
   ],
   "source": [
    "dbf = ps.open('data/amsterdam_hoods.dbf')\n",
    "db = pd.DataFrame(dict([(col, np.array(dbf.by_col(col))) for col in dbf.header]))\n",
    "w = ps.open('data/adam.gal').read()"
   ]
  },
  {
   "cell_type": "markdown",
   "metadata": {},
   "source": [
    "## `region`\n",
    "\n",
    "* Spatial aggregation of areas into regions\n",
    "* \"Spatial clustering\"\n",
    "* Right now, it implements only the `max-p` algorithm:\n",
    "     * Duque, J. C., Anselin, L. and Rey, S. J. 2011 [*\"The MAX-P regions problem\"*](http://onlinelibrary.wiley.com/doi/10.1111/j.1467-9787.2011.00743.x/abstract)"
   ]
  },
  {
   "cell_type": "markdown",
   "metadata": {},
   "source": [
    "Example of aggregation of areas using the `max-p`:"
   ]
  },
  {
   "cell_type": "code",
   "execution_count": 5,
   "metadata": {
    "collapsed": false
   },
   "outputs": [],
   "source": [
    "z = db[[i for i in db.columns if 'h_' in i]].values\n",
    "floor_var = db['total'].values[:, None]\n",
    "maxp = ps.Maxp(w, z, floor=500, floor_variable=floor_var)"
   ]
  },
  {
   "cell_type": "code",
   "execution_count": 6,
   "metadata": {
    "collapsed": false
   },
   "outputs": [
    {
     "data": {
      "text/plain": [
       "{'0': 50,\n",
       " '1': 13,\n",
       " '10': 12,\n",
       " '11': 25,\n",
       " '12': 12,\n",
       " '13': 34,\n",
       " '14': 14,\n",
       " '15': 33,\n",
       " '16': 22,\n",
       " '17': 22,\n",
       " '18': 22,\n",
       " '19': 41,\n",
       " '2': 8,\n",
       " '20': 6,\n",
       " '21': 6,\n",
       " '22': 49,\n",
       " '23': 27,\n",
       " '24': 27,\n",
       " '25': 1,\n",
       " '26': 27,\n",
       " '27': 15,\n",
       " '28': 27,\n",
       " '29': 33,\n",
       " '3': 7,\n",
       " '30': 33,\n",
       " '31': 43,\n",
       " '32': 43,\n",
       " '33': 22,\n",
       " '34': 23,\n",
       " '35': 23,\n",
       " '36': 23,\n",
       " '37': 2,\n",
       " '38': 2,\n",
       " '39': 2,\n",
       " '4': 24,\n",
       " '40': 2,\n",
       " '41': 2,\n",
       " '42': 12,\n",
       " '43': 12,\n",
       " '44': 12,\n",
       " '45': 2,\n",
       " '46': 12,\n",
       " '47': 12,\n",
       " '48': 11,\n",
       " '49': 2,\n",
       " '5': 29,\n",
       " '50': 2,\n",
       " '51': 5,\n",
       " '52': 5,\n",
       " '53': 39,\n",
       " '54': 5,\n",
       " '55': 5,\n",
       " '56': 5,\n",
       " '57': 19,\n",
       " '58': 19,\n",
       " '59': 5,\n",
       " '6': 38,\n",
       " '60': 5,\n",
       " '61': 0,\n",
       " '62': 39,\n",
       " '63': 18,\n",
       " '64': 35,\n",
       " '65': 32,\n",
       " '66': 3,\n",
       " '67': 21,\n",
       " '68': 21,\n",
       " '69': 21,\n",
       " '7': 47,\n",
       " '70': 21,\n",
       " '71': 21,\n",
       " '72': 42,\n",
       " '73': 26,\n",
       " '74': 45,\n",
       " '75': 26,\n",
       " '76': 20,\n",
       " '77': 4,\n",
       " '78': 31,\n",
       " '79': 31,\n",
       " '8': 44,\n",
       " '80': 36,\n",
       " '81': 17,\n",
       " '82': 37,\n",
       " '83': 10,\n",
       " '84': 10,\n",
       " '85': 6,\n",
       " '86': 30,\n",
       " '87': 40,\n",
       " '88': 6,\n",
       " '89': 17,\n",
       " '9': 9,\n",
       " '90': 28,\n",
       " '91': 37,\n",
       " '92': 37,\n",
       " '93': 46,\n",
       " '94': 48,\n",
       " '95': 16}"
      ]
     },
     "execution_count": 6,
     "metadata": {},
     "output_type": "execute_result"
    }
   ],
   "source": [
    "# Cardinalities\n",
    "maxp.area2region"
   ]
  },
  {
   "cell_type": "code",
   "execution_count": 7,
   "metadata": {
    "collapsed": false
   },
   "outputs": [
    {
     "data": {
      "text/plain": [
       "[['61'],\n",
       " ['25'],\n",
       " ['41', '49', '50', '45', '38', '40', '37', '39'],\n",
       " ['66'],\n",
       " ['77'],\n",
       " ['54', '56', '59', '51', '55', '60', '52'],\n",
       " ['21', '85', '20', '88'],\n",
       " ['3'],\n",
       " ['2'],\n",
       " ['9'],\n",
       " ['84', '83'],\n",
       " ['48'],\n",
       " ['43', '42', '47', '46', '44', '10', '12'],\n",
       " ['1'],\n",
       " ['14'],\n",
       " ['27'],\n",
       " ['95'],\n",
       " ['89', '81'],\n",
       " ['63'],\n",
       " ['57', '58'],\n",
       " ['76'],\n",
       " ['67', '68', '69', '71', '70'],\n",
       " ['16', '18', '33', '17'],\n",
       " ['35', '36', '34'],\n",
       " ['4'],\n",
       " ['11'],\n",
       " ['75', '73'],\n",
       " ['26', '24', '28', '23'],\n",
       " ['90'],\n",
       " ['5'],\n",
       " ['86'],\n",
       " ['79', '78'],\n",
       " ['65'],\n",
       " ['30', '15', '29'],\n",
       " ['13'],\n",
       " ['64'],\n",
       " ['80'],\n",
       " ['92', '91', '82'],\n",
       " ['6'],\n",
       " ['53', '62'],\n",
       " ['87'],\n",
       " ['19'],\n",
       " ['72'],\n",
       " ['31', '32'],\n",
       " ['8'],\n",
       " ['74'],\n",
       " ['93'],\n",
       " ['7'],\n",
       " ['94'],\n",
       " ['22'],\n",
       " ['0']]"
      ]
     },
     "execution_count": 7,
     "metadata": {},
     "output_type": "execute_result"
    }
   ],
   "source": [
    "maxp.regions"
   ]
  },
  {
   "cell_type": "markdown",
   "metadata": {},
   "source": [
    "## `spreg`\n",
    "\n",
    "State-of-the-art spatial regression.\n",
    "\n",
    "* Standard linear regression $\\rightarrow y = X \\beta + \\epsilon$\n",
    "* Spatial autocorrelation diagnostics\n",
    "* Spatial autocorrelation\n",
    "     * Spatial lag model $\\rightarrow y = \\rho Wy + X \\beta + \\epsilon$\n",
    "     * Spatial error model $\\rightarrow y = X \\beta + u \\; \\text{;} \\; u = Wu + \\epsilon$\n",
    "     * Combo models $\\rightarrow y = \\rho Wy + X \\beta + u \\; \\text{;} \\; u = Wu + \\epsilon$\n",
    "* Spatial heterogeneity $\\rightarrow$ spatial regimes"
   ]
  },
  {
   "cell_type": "markdown",
   "metadata": {},
   "source": [
    "Example of standard model:"
   ]
  },
  {
   "cell_type": "code",
   "execution_count": 8,
   "metadata": {
    "collapsed": false
   },
   "outputs": [],
   "source": [
    "y = db['total'].values[:, None]\n",
    "x = db[['h_0', 'h_7', 'h_16']].values"
   ]
  },
  {
   "cell_type": "code",
   "execution_count": 12,
   "metadata": {
    "collapsed": false
   },
   "outputs": [
    {
     "name": "stdout",
     "output_type": "stream",
     "text": [
      "REGRESSION\n",
      "----------\n",
      "SUMMARY OF OUTPUT: ORDINARY LEAST SQUARES\n",
      "-----------------------------------------\n",
      "Data set            :     unknown\n",
      "Weights matrix      :     unknown\n",
      "Dependent Variable  :     dep_var                Number of Observations:          96\n",
      "Mean dependent var  :    806.5312                Number of Variables   :           4\n",
      "S.D. dependent var  :   1070.2103                Degrees of Freedom    :          92\n",
      "R-squared           :      0.9819\n",
      "Adjusted R-squared  :      0.9813\n",
      "Sum squared residual: 1965750.735                F-statistic           :   1666.7952\n",
      "Sigma-square        :   21366.856                Prob(F-statistic)     :   5.004e-80\n",
      "S.E. of regression  :     146.174                Log likelihood        :    -612.716\n",
      "Sigma-square ML     :   20476.570                Akaike info criterion :    1233.432\n",
      "S.E of regression ML:    143.0964                Schwarz criterion     :    1243.689\n",
      "\n",
      "------------------------------------------------------------------------------------\n",
      "            Variable     Coefficient       Std.Error     t-Statistic     Probability\n",
      "------------------------------------------------------------------------------------\n",
      "            CONSTANT      63.8201539      18.8890437       3.3786863       0.0010695\n",
      "               var_1       6.3273241       1.5145256       4.1777598       0.0000669\n",
      "               var_2       4.2722981       0.4779627       8.9385588       0.0000000\n",
      "               var_3       8.7344856       0.4145940      21.0675663       0.0000000\n",
      "------------------------------------------------------------------------------------\n",
      "\n",
      "REGRESSION DIAGNOSTICS\n",
      "MULTICOLLINEARITY CONDITION NUMBER            6.441\n",
      "\n",
      "TEST ON NORMALITY OF ERRORS\n",
      "TEST                             DF        VALUE           PROB\n",
      "Jarque-Bera                       2          75.052           0.0000\n",
      "\n",
      "DIAGNOSTICS FOR HETEROSKEDASTICITY\n",
      "RANDOM COEFFICIENTS\n",
      "TEST                             DF        VALUE           PROB\n",
      "Breusch-Pagan test                3         198.378           0.0000\n",
      "Koenker-Bassett test              3          62.693           0.0000\n",
      "================================ END OF REPORT =====================================\n"
     ]
    }
   ],
   "source": [
    "ols = ps.spreg.OLS(y, x, w)\n",
    "print(ols.summary)"
   ]
  },
  {
   "cell_type": "code",
   "execution_count": 13,
   "metadata": {
    "collapsed": false
   },
   "outputs": [
    {
     "name": "stdout",
     "output_type": "stream",
     "text": [
      "REGRESSION\n",
      "----------\n",
      "SUMMARY OF OUTPUT: SPATIALLY WEIGHTED TWO STAGE LEAST SQUARES (HOM)\n",
      "-------------------------------------------------------------------\n",
      "Data set            :     unknown\n",
      "Weights matrix      :     unknown\n",
      "Dependent Variable  :     dep_var                Number of Observations:          96\n",
      "Mean dependent var  :    806.5312                Number of Variables   :           5\n",
      "S.D. dependent var  :   1070.2103                Degrees of Freedom    :          91\n",
      "Pseudo R-squared    :      0.9847\n",
      "Spatial Pseudo R-squared:  0.9846\n",
      "N. of iterations    :           1\n",
      "\n",
      "------------------------------------------------------------------------------------\n",
      "            Variable     Coefficient       Std.Error     z-Statistic     Probability\n",
      "------------------------------------------------------------------------------------\n",
      "            CONSTANT       5.9614487      21.9138624       0.2720401       0.7855912\n",
      "           W_dep_var       0.0169552       0.0041102       4.1251978       0.0000370\n",
      "               var_1       5.6181654       1.3746269       4.0870473       0.0000437\n",
      "               var_2       4.4575079       0.4328943      10.2969898       0.0000000\n",
      "               var_3       8.1950028       0.3953213      20.7299804       0.0000000\n",
      "              lambda      -0.0026513       0.0334001      -0.0793806       0.9367299\n",
      "------------------------------------------------------------------------------------\n",
      "Instrumented: W_dep_var\n",
      "Instruments: W_var_1, W_var_2, W_var_3\n",
      "================================ END OF REPORT =====================================\n"
     ]
    }
   ],
   "source": [
    "combo = ps.spreg.GM_Combo_Hom(y, x, w=w)\n",
    "print(combo.summary)"
   ]
  },
  {
   "cell_type": "markdown",
   "metadata": {},
   "source": [
    "## `spatial_dynamics`\n",
    "\n",
    "Several exploratory measure and approaches to the analysis of spatial dynamics of systems.\n",
    "\n",
    "* Directional statistics (Rey et al. 2011)\n",
    "* Space-time interaction measures (Kulldorf)\n",
    "* Non-spatial Markov chains\n",
    "* Spatial Markov chains (Rey, 2004)\n",
    "* Spatial rank Markov chains (Rey, 2012)"
   ]
  },
  {
   "cell_type": "markdown",
   "metadata": {},
   "source": [
    "## `inequality`\n",
    "\n",
    "Inequality measures for the analysis of regional systems. Spatial and non-spatial.\n",
    "\n",
    "* Theil\n",
    "* Spatial decomposition of Theil"
   ]
  },
  {
   "cell_type": "markdown",
   "metadata": {},
   "source": [
    "## `contrib`\n",
    "\n",
    "The contrib module serves two main purposes:\n",
    "\n",
    "* **Sandbox** for code that is not quite ready for prime time but it's fairly advanced and still under intense development\n",
    "* **Interface** between `PySAL` and third party libraries that are not required as \"dependencies\" (e.g. `networkX`, `shapely`)"
   ]
  },
  {
   "cell_type": "code",
   "execution_count": null,
   "metadata": {
    "collapsed": true
   },
   "outputs": [],
   "source": []
  }
 ],
 "metadata": {
  "kernelspec": {
   "display_name": "Python 3",
   "language": "python",
   "name": "python3"
  },
  "language_info": {
   "codemirror_mode": {
    "name": "ipython",
    "version": 3
   },
   "file_extension": ".py",
   "mimetype": "text/x-python",
   "name": "python",
   "nbconvert_exporter": "python",
   "pygments_lexer": "ipython3",
   "version": "3.5.1"
  }
 },
 "nbformat": 4,
 "nbformat_minor": 0
}
