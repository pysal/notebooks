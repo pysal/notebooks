{
 "cells": [
  {
   "cell_type": "markdown",
   "metadata": {},
   "source": [
    "#Shapely for GIS"
   ]
  },
  {
   "cell_type": "markdown",
   "metadata": {},
   "source": [
    "`Shapely` is a planar geometry package) developed by the [Toblerity](http://toblerity.org/) Project. The Toblerity Project is a community of python developers working on open source tools for spatial data manipulation. Right now they focus primarily on spatial data manipulation in python. The project has significant contributions from [Sean Gilles](http://sgillies.net/) and [Mike Toews](https://sites.google.com/site/mwtoews/). I'll show you how to exmaine projects for main contributors now, using [`Pandas`](https://github.com/pydata/pandas).\n",
    "\n",
    "As far as `Shapely` is concerned, \"planar\" means that it can process any kind of spatial information that can be embedded in a plane. For us, this means that shapely processes vector data, and requires that the vector data be on one-level.\n",
    "\n",
    "For most of you, this isn't a problem. But, if you want to do GIS operations on a street network, where overpasses mean that two lines touch without an intersection, this may get problematic. "
   ]
  },
  {
   "cell_type": "markdown",
   "metadata": {},
   "source": [
    "Most of you will work with only a few `shapely` submodules, and not directly with the library itself. To do this, we'll import those submodules directly."
   ]
  },
  {
   "cell_type": "code",
   "execution_count": 1,
   "metadata": {
    "collapsed": true
   },
   "outputs": [],
   "source": [
    "import shapely.geometry as geom\n",
    "import shapely.ops as geoproc\n",
    "import numpy\n",
    "import pysal\n",
    "import pandas"
   ]
  },
  {
   "cell_type": "markdown",
   "metadata": {},
   "source": [
    "Using our GeoPandas-like function we made yesterday (in notebook `PySAL`), let's build some data frames"
   ]
  },
  {
   "cell_type": "code",
   "execution_count": 2,
   "metadata": {
    "collapsed": true
   },
   "outputs": [],
   "source": [
    "def geodf(fpath):\n",
    "    fp_shp = pysal.open(fpath + '.shp')\n",
    "    fp_dbf = pysal.open(fpath + '.dbf') \n",
    "    df = pandas.DataFrame({field: fp_dbf.by_col(field) for field in fp_dbf.header})\n",
    "    df['shapes'] = pandas.Series(geom.shape(poly) for poly in fp_shp)\n",
    "    return df"
   ]
  },
  {
   "cell_type": "markdown",
   "metadata": {},
   "source": [
    "Now, we'll use this function to open up four datasets. The first is the Sacramento employment data we dicussed earlier. Then, we'll also open up a list of schools, wild lands, and the boundaries of Sacramento city itself. *This data is not offically collected :)*"
   ]
  },
  {
   "cell_type": "code",
   "execution_count": 3,
   "metadata": {
    "collapsed": false
   },
   "outputs": [],
   "source": [
    "social =  geodf(pysal.examples.get_path('sacramentot2'))\n",
    "schools = geodf('./sacramento/schools')\n",
    "wilds = geodf('./sacramento/wilds')\n",
    "boundaries = geodf('./sacramento/bounds')"
   ]
  },
  {
   "cell_type": "markdown",
   "metadata": {},
   "source": [
    "Just to be sure, let's look at the new dataframes:"
   ]
  },
  {
   "cell_type": "code",
   "execution_count": 4,
   "metadata": {
    "collapsed": false,
    "scrolled": true
   },
   "outputs": [
    {
     "data": {
      "text/html": [
       "<div style=\"max-height:1000px;max-width:1500px;overflow:auto;\">\n",
       "<table border=\"1\" class=\"dataframe\">\n",
       "  <thead>\n",
       "    <tr style=\"text-align: right;\">\n",
       "      <th></th>\n",
       "      <th>ASIAN_</th>\n",
       "      <th>BLACK_</th>\n",
       "      <th>EMP16_2</th>\n",
       "      <th>EMPL16</th>\n",
       "      <th>EMP_29</th>\n",
       "      <th>EMP_30</th>\n",
       "      <th>EMP_AWAY</th>\n",
       "      <th>EMP_FEM</th>\n",
       "      <th>EMP_HOME</th>\n",
       "      <th>EMP_MALE</th>\n",
       "      <th>...</th>\n",
       "      <th>OCC_MAN</th>\n",
       "      <th>OCC_OFF1</th>\n",
       "      <th>POLYID</th>\n",
       "      <th>POP_16</th>\n",
       "      <th>POP_65</th>\n",
       "      <th>POV_POP</th>\n",
       "      <th>POV_TOT</th>\n",
       "      <th>TOT_POP</th>\n",
       "      <th>WHITE_</th>\n",
       "      <th>shapes</th>\n",
       "    </tr>\n",
       "  </thead>\n",
       "  <tbody>\n",
       "    <tr>\n",
       "      <th>0</th>\n",
       "      <td> 82</td>\n",
       "      <td> 29</td>\n",
       "      <td> 2972</td>\n",
       "      <td> 2889</td>\n",
       "      <td> 1573</td>\n",
       "      <td> 1033</td>\n",
       "      <td> 2606</td>\n",
       "      <td> 1187</td>\n",
       "      <td> 283</td>\n",
       "      <td> 1785</td>\n",
       "      <td>...</td>\n",
       "      <td> 117</td>\n",
       "      <td> 663</td>\n",
       "      <td> 1</td>\n",
       "      <td> 1077</td>\n",
       "      <td> 518</td>\n",
       "      <td> 5461</td>\n",
       "      <td> 470</td>\n",
       "      <td> 5501</td>\n",
       "      <td> 4961</td>\n",
       "      <td> POLYGON ((-120.217504 39.162085, -120.220064 3...</td>\n",
       "    </tr>\n",
       "    <tr>\n",
       "      <th>1</th>\n",
       "      <td> 28</td>\n",
       "      <td>  0</td>\n",
       "      <td> 1175</td>\n",
       "      <td> 1151</td>\n",
       "      <td>  908</td>\n",
       "      <td>  159</td>\n",
       "      <td> 1067</td>\n",
       "      <td>  522</td>\n",
       "      <td>  84</td>\n",
       "      <td>  653</td>\n",
       "      <td>...</td>\n",
       "      <td>  38</td>\n",
       "      <td> 229</td>\n",
       "      <td> 2</td>\n",
       "      <td>  396</td>\n",
       "      <td> 109</td>\n",
       "      <td> 2052</td>\n",
       "      <td> 160</td>\n",
       "      <td> 2072</td>\n",
       "      <td> 1603</td>\n",
       "      <td> POLYGON ((-120.064072 39.236687, -120.064115 3...</td>\n",
       "    </tr>\n",
       "    <tr>\n",
       "      <th>2</th>\n",
       "      <td>  0</td>\n",
       "      <td>  9</td>\n",
       "      <td> 1857</td>\n",
       "      <td> 1791</td>\n",
       "      <td> 1354</td>\n",
       "      <td>  338</td>\n",
       "      <td> 1692</td>\n",
       "      <td>  698</td>\n",
       "      <td>  99</td>\n",
       "      <td> 1159</td>\n",
       "      <td>...</td>\n",
       "      <td>  86</td>\n",
       "      <td> 197</td>\n",
       "      <td> 3</td>\n",
       "      <td>  911</td>\n",
       "      <td> 126</td>\n",
       "      <td> 3604</td>\n",
       "      <td> 668</td>\n",
       "      <td> 3633</td>\n",
       "      <td> 1624</td>\n",
       "      <td> POLYGON ((-120.00526 39.279982, -120.005266 39...</td>\n",
       "    </tr>\n",
       "    <tr>\n",
       "      <th>3</th>\n",
       "      <td> 55</td>\n",
       "      <td>  0</td>\n",
       "      <td> 1026</td>\n",
       "      <td> 1013</td>\n",
       "      <td>  789</td>\n",
       "      <td>  165</td>\n",
       "      <td>  954</td>\n",
       "      <td>  519</td>\n",
       "      <td>  59</td>\n",
       "      <td>  507</td>\n",
       "      <td>...</td>\n",
       "      <td>   5</td>\n",
       "      <td> 256</td>\n",
       "      <td> 4</td>\n",
       "      <td>  281</td>\n",
       "      <td> 154</td>\n",
       "      <td> 1683</td>\n",
       "      <td> 116</td>\n",
       "      <td> 1683</td>\n",
       "      <td> 1564</td>\n",
       "      <td> POLYGON ((-120.095366 39.197183, -120.095761 3...</td>\n",
       "    </tr>\n",
       "    <tr>\n",
       "      <th>4</th>\n",
       "      <td> 13</td>\n",
       "      <td> 17</td>\n",
       "      <td> 2730</td>\n",
       "      <td> 2633</td>\n",
       "      <td>  739</td>\n",
       "      <td> 1684</td>\n",
       "      <td> 2423</td>\n",
       "      <td> 1260</td>\n",
       "      <td> 210</td>\n",
       "      <td> 1470</td>\n",
       "      <td>...</td>\n",
       "      <td> 155</td>\n",
       "      <td> 506</td>\n",
       "      <td> 5</td>\n",
       "      <td> 1278</td>\n",
       "      <td> 830</td>\n",
       "      <td> 5771</td>\n",
       "      <td> 342</td>\n",
       "      <td> 5794</td>\n",
       "      <td> 5185</td>\n",
       "      <td> POLYGON ((-121.038014 38.931727, -121.037162 3...</td>\n",
       "    </tr>\n",
       "  </tbody>\n",
       "</table>\n",
       "<p>5 rows × 32 columns</p>\n",
       "</div>"
      ],
      "text/plain": [
       "   ASIAN_  BLACK_  EMP16_2  EMPL16  EMP_29  EMP_30  EMP_AWAY  EMP_FEM  \\\n",
       "0      82      29     2972    2889    1573    1033      2606     1187   \n",
       "1      28       0     1175    1151     908     159      1067      522   \n",
       "2       0       9     1857    1791    1354     338      1692      698   \n",
       "3      55       0     1026    1013     789     165       954      519   \n",
       "4      13      17     2730    2633     739    1684      2423     1260   \n",
       "\n",
       "   EMP_HOME  EMP_MALE                        ...                          \\\n",
       "0       283      1785                        ...                           \n",
       "1        84       653                        ...                           \n",
       "2        99      1159                        ...                           \n",
       "3        59       507                        ...                           \n",
       "4       210      1470                        ...                           \n",
       "\n",
       "   OCC_MAN  OCC_OFF1 POLYID  POP_16  POP_65  POV_POP  POV_TOT  TOT_POP  \\\n",
       "0      117       663      1    1077     518     5461      470     5501   \n",
       "1       38       229      2     396     109     2052      160     2072   \n",
       "2       86       197      3     911     126     3604      668     3633   \n",
       "3        5       256      4     281     154     1683      116     1683   \n",
       "4      155       506      5    1278     830     5771      342     5794   \n",
       "\n",
       "   WHITE_                                             shapes  \n",
       "0    4961  POLYGON ((-120.217504 39.162085, -120.220064 3...  \n",
       "1    1603  POLYGON ((-120.064072 39.236687, -120.064115 3...  \n",
       "2    1624  POLYGON ((-120.00526 39.279982, -120.005266 39...  \n",
       "3    1564  POLYGON ((-120.095366 39.197183, -120.095761 3...  \n",
       "4    5185  POLYGON ((-121.038014 38.931727, -121.037162 3...  \n",
       "\n",
       "[5 rows x 32 columns]"
      ]
     },
     "execution_count": 4,
     "metadata": {},
     "output_type": "execute_result"
    }
   ],
   "source": [
    "social.head()"
   ]
  },
  {
   "cell_type": "code",
   "execution_count": 5,
   "metadata": {
    "collapsed": false
   },
   "outputs": [
    {
     "data": {
      "text/html": [
       "<div style=\"max-height:1000px;max-width:1500px;overflow:auto;\">\n",
       "<table border=\"1\" class=\"dataframe\">\n",
       "  <thead>\n",
       "    <tr style=\"text-align: right;\">\n",
       "      <th></th>\n",
       "      <th>id</th>\n",
       "      <th>name</th>\n",
       "      <th>shapes</th>\n",
       "    </tr>\n",
       "  </thead>\n",
       "  <tbody>\n",
       "    <tr>\n",
       "      <th>0 </th>\n",
       "      <td>  0</td>\n",
       "      <td>              Sutter Middle School</td>\n",
       "      <td> POINT (-121.4632868196111 38.57074819645159)</td>\n",
       "    </tr>\n",
       "    <tr>\n",
       "      <th>1 </th>\n",
       "      <td>  1</td>\n",
       "      <td>          California Middle School</td>\n",
       "      <td> POINT (-121.4865391479792 38.54749586808352)</td>\n",
       "    </tr>\n",
       "    <tr>\n",
       "      <th>2 </th>\n",
       "      <td>  2</td>\n",
       "      <td>  St. Francis Catholic High School</td>\n",
       "      <td> POINT (-121.4221698974969 38.55458499258597)</td>\n",
       "    </tr>\n",
       "    <tr>\n",
       "      <th>3 </th>\n",
       "      <td>  3</td>\n",
       "      <td>           Sacramento City College</td>\n",
       "      <td> POINT (-121.4746294188151 38.53955604864075)</td>\n",
       "    </tr>\n",
       "    <tr>\n",
       "      <th>4 </th>\n",
       "      <td>  4</td>\n",
       "      <td>    Christian Brothers High School</td>\n",
       "      <td> POINT (-121.4527949153475 38.53275048911839)</td>\n",
       "    </tr>\n",
       "    <tr>\n",
       "      <th>5 </th>\n",
       "      <td>  5</td>\n",
       "      <td>                Washington Unified</td>\n",
       "      <td> POINT (-121.5253875502527 38.57698662601376)</td>\n",
       "    </tr>\n",
       "    <tr>\n",
       "      <th>6 </th>\n",
       "      <td>  6</td>\n",
       "      <td>              Nantomas High School</td>\n",
       "      <td>  POINT (-121.448541440646 38.64192300645632)</td>\n",
       "    </tr>\n",
       "    <tr>\n",
       "      <th>7 </th>\n",
       "      <td>  6</td>\n",
       "      <td>           Grant Union High School</td>\n",
       "      <td> POINT (-121.4281247620789 38.63710240179464)</td>\n",
       "    </tr>\n",
       "    <tr>\n",
       "      <th>8 </th>\n",
       "      <td>  7</td>\n",
       "      <td>             Mira Loma high School</td>\n",
       "      <td> POINT (-121.3685761162582 38.63625170685435)</td>\n",
       "    </tr>\n",
       "    <tr>\n",
       "      <th>9 </th>\n",
       "      <td>  7</td>\n",
       "      <td>          CK McClatchy High School</td>\n",
       "      <td> POINT (-121.4814349783374 38.52509423465573)</td>\n",
       "    </tr>\n",
       "    <tr>\n",
       "      <th>10</th>\n",
       "      <td>  8</td>\n",
       "      <td>           West Campus High School</td>\n",
       "      <td> POINT (-121.4252891122779 38.52878057939702)</td>\n",
       "    </tr>\n",
       "    <tr>\n",
       "      <th>11</th>\n",
       "      <td>  9</td>\n",
       "      <td>       John F. Kennedy High School</td>\n",
       "      <td> POINT (-121.5279396350736 38.49872269150657)</td>\n",
       "    </tr>\n",
       "    <tr>\n",
       "      <th>12</th>\n",
       "      <td> 10</td>\n",
       "      <td>           Sacramento City Unified</td>\n",
       "      <td> POINT (-121.4329453667406 38.49957338644687)</td>\n",
       "    </tr>\n",
       "    <tr>\n",
       "      <th>13</th>\n",
       "      <td> 11</td>\n",
       "      <td>                Florin High School</td>\n",
       "      <td> POINT (-121.3872914049447 38.48312661760116)</td>\n",
       "    </tr>\n",
       "    <tr>\n",
       "      <th>14</th>\n",
       "      <td> 12</td>\n",
       "      <td>          Laguna Creek High School</td>\n",
       "      <td>  POINT (-121.413946513074 38.46667984875545)</td>\n",
       "    </tr>\n",
       "    <tr>\n",
       "      <th>15</th>\n",
       "      <td> 13</td>\n",
       "      <td>            Cosumnes River College</td>\n",
       "      <td> POINT (-121.4343631916411 38.48142522772056)</td>\n",
       "    </tr>\n",
       "    <tr>\n",
       "      <th>16</th>\n",
       "      <td> 13</td>\n",
       "      <td>        Consumnes Oaks High School</td>\n",
       "      <td> POINT (-121.4060066936312 38.44286039042717)</td>\n",
       "    </tr>\n",
       "    <tr>\n",
       "      <th>17</th>\n",
       "      <td> 15</td>\n",
       "      <td>                Folsom High School</td>\n",
       "      <td> POINT (-121.1933329585574 38.77916845682399)</td>\n",
       "    </tr>\n",
       "    <tr>\n",
       "      <th>18</th>\n",
       "      <td> 16</td>\n",
       "      <td>        Vista Del Lago High School</td>\n",
       "      <td> POINT (-121.2046755577613 38.81262912447561)</td>\n",
       "    </tr>\n",
       "    <tr>\n",
       "      <th>19</th>\n",
       "      <td> 16</td>\n",
       "      <td>             Oak Ridge High School</td>\n",
       "      <td> POINT (-121.1156361540104 38.84155275244566)</td>\n",
       "    </tr>\n",
       "    <tr>\n",
       "      <th>20</th>\n",
       "      <td> 17</td>\n",
       "      <td>            American River College</td>\n",
       "      <td> POINT (-121.3430552680494 38.70600869195858)</td>\n",
       "    </tr>\n",
       "    <tr>\n",
       "      <th>21</th>\n",
       "      <td> 17</td>\n",
       "      <td>        Twin Rivers Administration</td>\n",
       "      <td> POINT (-121.3827543652632 38.67821932390893)</td>\n",
       "    </tr>\n",
       "    <tr>\n",
       "      <th>22</th>\n",
       "      <td> 18</td>\n",
       "      <td>             Highlands High School</td>\n",
       "      <td>  POINT (-121.367867203808 38.69459520150961)</td>\n",
       "    </tr>\n",
       "    <tr>\n",
       "      <th>23</th>\n",
       "      <td> 19</td>\n",
       "      <td>        Woodland Community College</td>\n",
       "      <td> POINT (-121.7570601389932 38.66538800855946)</td>\n",
       "    </tr>\n",
       "    <tr>\n",
       "      <th>24</th>\n",
       "      <td> 19</td>\n",
       "      <td>              Woodland High School</td>\n",
       "      <td> POINT (-121.7888194167642 38.67786486768379)</td>\n",
       "    </tr>\n",
       "    <tr>\n",
       "      <th>25</th>\n",
       "      <td> 20</td>\n",
       "      <td>   University of California, Davis</td>\n",
       "      <td>  POINT (-121.7805960323413 38.5448728920176)</td>\n",
       "    </tr>\n",
       "    <tr>\n",
       "      <th>26</th>\n",
       "      <td> 21</td>\n",
       "      <td>          Davis Senior High School</td>\n",
       "      <td>  POINT (-121.7780439475204 38.5635881807041)</td>\n",
       "    </tr>\n",
       "    <tr>\n",
       "      <th>27</th>\n",
       "      <td> 22</td>\n",
       "      <td> Frances Harper Junior High School</td>\n",
       "      <td> POINT (-121.6992128830531 38.56075253090312)</td>\n",
       "    </tr>\n",
       "    <tr>\n",
       "      <th>28</th>\n",
       "      <td> 23</td>\n",
       "      <td>           McCaffrey Middle School</td>\n",
       "      <td> POINT (-121.3071842980669 38.28739589008816)</td>\n",
       "    </tr>\n",
       "    <tr>\n",
       "      <th>29</th>\n",
       "      <td> 25</td>\n",
       "      <td>         Liberty Ranch High School</td>\n",
       "      <td> POINT (-121.2955581338829 38.28994797490905)</td>\n",
       "    </tr>\n",
       "    <tr>\n",
       "      <th>30</th>\n",
       "      <td> 26</td>\n",
       "      <td>             El Dorado High School</td>\n",
       "      <td> POINT (-120.5548864058656 38.96114628280215)</td>\n",
       "    </tr>\n",
       "    <tr>\n",
       "      <th>31</th>\n",
       "      <td> 27</td>\n",
       "      <td>               Truckee High School</td>\n",
       "      <td> POINT (-120.1828491519764 39.06322967563761)</td>\n",
       "    </tr>\n",
       "    <tr>\n",
       "      <th>32</th>\n",
       "      <td> 27</td>\n",
       "      <td>          Nevada Union High School</td>\n",
       "      <td>  POINT (-120.9042384613469 38.9724888820061)</td>\n",
       "    </tr>\n",
       "    <tr>\n",
       "      <th>33</th>\n",
       "      <td> 29</td>\n",
       "      <td>              Grass Valley Schools</td>\n",
       "      <td> POINT (-120.9632199772074 38.91917866574758)</td>\n",
       "    </tr>\n",
       "    <tr>\n",
       "      <th>34</th>\n",
       "      <td> 29</td>\n",
       "      <td>      Grass Valley Charter Schools</td>\n",
       "      <td> POINT (-120.9496088581627 38.88174808837458)</td>\n",
       "    </tr>\n",
       "    <tr>\n",
       "      <th>35</th>\n",
       "      <td> 30</td>\n",
       "      <td>        Silver Springs High School</td>\n",
       "      <td>  POINT (-121.010858893864 38.87380826893182)</td>\n",
       "    </tr>\n",
       "  </tbody>\n",
       "</table>\n",
       "</div>"
      ],
      "text/plain": [
       "    id                               name  \\\n",
       "0    0               Sutter Middle School   \n",
       "1    1           California Middle School   \n",
       "2    2   St. Francis Catholic High School   \n",
       "3    3            Sacramento City College   \n",
       "4    4     Christian Brothers High School   \n",
       "5    5                 Washington Unified   \n",
       "6    6               Nantomas High School   \n",
       "7    6            Grant Union High School   \n",
       "8    7              Mira Loma high School   \n",
       "9    7           CK McClatchy High School   \n",
       "10   8            West Campus High School   \n",
       "11   9        John F. Kennedy High School   \n",
       "12  10            Sacramento City Unified   \n",
       "13  11                 Florin High School   \n",
       "14  12           Laguna Creek High School   \n",
       "15  13             Cosumnes River College   \n",
       "16  13         Consumnes Oaks High School   \n",
       "17  15                 Folsom High School   \n",
       "18  16         Vista Del Lago High School   \n",
       "19  16              Oak Ridge High School   \n",
       "20  17             American River College   \n",
       "21  17         Twin Rivers Administration   \n",
       "22  18              Highlands High School   \n",
       "23  19         Woodland Community College   \n",
       "24  19               Woodland High School   \n",
       "25  20    University of California, Davis   \n",
       "26  21           Davis Senior High School   \n",
       "27  22  Frances Harper Junior High School   \n",
       "28  23            McCaffrey Middle School   \n",
       "29  25          Liberty Ranch High School   \n",
       "30  26              El Dorado High School   \n",
       "31  27                Truckee High School   \n",
       "32  27           Nevada Union High School   \n",
       "33  29               Grass Valley Schools   \n",
       "34  29       Grass Valley Charter Schools   \n",
       "35  30         Silver Springs High School   \n",
       "\n",
       "                                          shapes  \n",
       "0   POINT (-121.4632868196111 38.57074819645159)  \n",
       "1   POINT (-121.4865391479792 38.54749586808352)  \n",
       "2   POINT (-121.4221698974969 38.55458499258597)  \n",
       "3   POINT (-121.4746294188151 38.53955604864075)  \n",
       "4   POINT (-121.4527949153475 38.53275048911839)  \n",
       "5   POINT (-121.5253875502527 38.57698662601376)  \n",
       "6    POINT (-121.448541440646 38.64192300645632)  \n",
       "7   POINT (-121.4281247620789 38.63710240179464)  \n",
       "8   POINT (-121.3685761162582 38.63625170685435)  \n",
       "9   POINT (-121.4814349783374 38.52509423465573)  \n",
       "10  POINT (-121.4252891122779 38.52878057939702)  \n",
       "11  POINT (-121.5279396350736 38.49872269150657)  \n",
       "12  POINT (-121.4329453667406 38.49957338644687)  \n",
       "13  POINT (-121.3872914049447 38.48312661760116)  \n",
       "14   POINT (-121.413946513074 38.46667984875545)  \n",
       "15  POINT (-121.4343631916411 38.48142522772056)  \n",
       "16  POINT (-121.4060066936312 38.44286039042717)  \n",
       "17  POINT (-121.1933329585574 38.77916845682399)  \n",
       "18  POINT (-121.2046755577613 38.81262912447561)  \n",
       "19  POINT (-121.1156361540104 38.84155275244566)  \n",
       "20  POINT (-121.3430552680494 38.70600869195858)  \n",
       "21  POINT (-121.3827543652632 38.67821932390893)  \n",
       "22   POINT (-121.367867203808 38.69459520150961)  \n",
       "23  POINT (-121.7570601389932 38.66538800855946)  \n",
       "24  POINT (-121.7888194167642 38.67786486768379)  \n",
       "25   POINT (-121.7805960323413 38.5448728920176)  \n",
       "26   POINT (-121.7780439475204 38.5635881807041)  \n",
       "27  POINT (-121.6992128830531 38.56075253090312)  \n",
       "28  POINT (-121.3071842980669 38.28739589008816)  \n",
       "29  POINT (-121.2955581338829 38.28994797490905)  \n",
       "30  POINT (-120.5548864058656 38.96114628280215)  \n",
       "31  POINT (-120.1828491519764 39.06322967563761)  \n",
       "32   POINT (-120.9042384613469 38.9724888820061)  \n",
       "33  POINT (-120.9632199772074 38.91917866574758)  \n",
       "34  POINT (-120.9496088581627 38.88174808837458)  \n",
       "35   POINT (-121.010858893864 38.87380826893182)  "
      ]
     },
     "execution_count": 5,
     "metadata": {},
     "output_type": "execute_result"
    }
   ],
   "source": [
    "schools"
   ]
  },
  {
   "cell_type": "code",
   "execution_count": 6,
   "metadata": {
    "collapsed": false
   },
   "outputs": [
    {
     "data": {
      "text/html": [
       "<div style=\"max-height:1000px;max-width:1500px;overflow:auto;\">\n",
       "<table border=\"1\" class=\"dataframe\">\n",
       "  <thead>\n",
       "    <tr style=\"text-align: right;\">\n",
       "      <th></th>\n",
       "      <th>id</th>\n",
       "      <th>shapes</th>\n",
       "    </tr>\n",
       "  </thead>\n",
       "  <tbody>\n",
       "    <tr>\n",
       "      <th>0</th>\n",
       "      <td>  3</td>\n",
       "      <td> POLYGON ((-120.9252222698742 39.09839173316983...</td>\n",
       "    </tr>\n",
       "    <tr>\n",
       "      <th>1</th>\n",
       "      <td>  1</td>\n",
       "      <td> POLYGON ((-121.5450953163695 38.55763331612199...</td>\n",
       "    </tr>\n",
       "    <tr>\n",
       "      <th>2</th>\n",
       "      <td>NaN</td>\n",
       "      <td> POLYGON ((-121.5346034121059 38.64525489497242...</td>\n",
       "    </tr>\n",
       "    <tr>\n",
       "      <th>3</th>\n",
       "      <td>  5</td>\n",
       "      <td> POLYGON ((-121.4929193600314 38.40706031168967...</td>\n",
       "    </tr>\n",
       "    <tr>\n",
       "      <th>4</th>\n",
       "      <td>  6</td>\n",
       "      <td> POLYGON ((-121.4849795405886 38.35573505029183...</td>\n",
       "    </tr>\n",
       "  </tbody>\n",
       "</table>\n",
       "</div>"
      ],
      "text/plain": [
       "   id                                             shapes\n",
       "0   3  POLYGON ((-120.9252222698742 39.09839173316983...\n",
       "1   1  POLYGON ((-121.5450953163695 38.55763331612199...\n",
       "2 NaN  POLYGON ((-121.5346034121059 38.64525489497242...\n",
       "3   5  POLYGON ((-121.4929193600314 38.40706031168967...\n",
       "4   6  POLYGON ((-121.4849795405886 38.35573505029183..."
      ]
     },
     "execution_count": 6,
     "metadata": {},
     "output_type": "execute_result"
    }
   ],
   "source": [
    "wilds.head()"
   ]
  },
  {
   "cell_type": "code",
   "execution_count": 7,
   "metadata": {
    "collapsed": false
   },
   "outputs": [
    {
     "data": {
      "text/html": [
       "<div style=\"max-height:1000px;max-width:1500px;overflow:auto;\">\n",
       "<table border=\"1\" class=\"dataframe\">\n",
       "  <thead>\n",
       "    <tr style=\"text-align: right;\">\n",
       "      <th></th>\n",
       "      <th>id</th>\n",
       "      <th>shapes</th>\n",
       "    </tr>\n",
       "  </thead>\n",
       "  <tbody>\n",
       "    <tr>\n",
       "      <th>0</th>\n",
       "      <td> 1</td>\n",
       "      <td> POLYGON ((-121.6047753955934 38.57128841878594...</td>\n",
       "    </tr>\n",
       "  </tbody>\n",
       "</table>\n",
       "</div>"
      ],
      "text/plain": [
       "   id                                             shapes\n",
       "0   1  POLYGON ((-121.6047753955934 38.57128841878594..."
      ]
     },
     "execution_count": 7,
     "metadata": {},
     "output_type": "execute_result"
    }
   ],
   "source": [
    "boundaries.head()"
   ]
  },
  {
   "cell_type": "markdown",
   "metadata": {},
   "source": [
    "This is where it may be frustrating that we do not have descartes. But, feel free to open up the files we create in QGIS!"
   ]
  },
  {
   "cell_type": "markdown",
   "metadata": {},
   "source": [
    "### General `Shapely` Shape methods"
   ]
  },
  {
   "cell_type": "markdown",
   "metadata": {},
   "source": [
    "`Shapely` shapes have a ton of methods. I'll run over a few now. First, let's look at point methods. "
   ]
  },
  {
   "cell_type": "code",
   "execution_count": 8,
   "metadata": {
    "collapsed": true
   },
   "outputs": [],
   "source": [
    "test = schools['shapes'][0]"
   ]
  },
  {
   "cell_type": "code",
   "execution_count": 9,
   "metadata": {
    "collapsed": false
   },
   "outputs": [
    {
     "data": {
      "text/plain": [
       "['_crs',\n",
       " '_ctypes_data',\n",
       " '_geom',\n",
       " '_get_coords',\n",
       " '_is_empty',\n",
       " '_lgeos',\n",
       " '_ndim',\n",
       " '_other_owned',\n",
       " '_repr_svg_',\n",
       " '_set_coords',\n",
       " 'almost_equals',\n",
       " 'area',\n",
       " 'array_interface',\n",
       " 'array_interface_base',\n",
       " 'boundary',\n",
       " 'bounds',\n",
       " 'buffer',\n",
       " 'centroid',\n",
       " 'contains',\n",
       " 'convex_hull',\n",
       " 'coords',\n",
       " 'crosses',\n",
       " 'ctypes',\n",
       " 'difference',\n",
       " 'disjoint',\n",
       " 'distance',\n",
       " 'empty',\n",
       " 'envelope',\n",
       " 'equals',\n",
       " 'equals_exact',\n",
       " 'geom_type',\n",
       " 'geometryType',\n",
       " 'has_z',\n",
       " 'impl',\n",
       " 'interpolate',\n",
       " 'intersection',\n",
       " 'intersects',\n",
       " 'is_closed',\n",
       " 'is_empty',\n",
       " 'is_ring',\n",
       " 'is_simple',\n",
       " 'is_valid',\n",
       " 'length',\n",
       " 'overlaps',\n",
       " 'project',\n",
       " 'relate',\n",
       " 'representative_point',\n",
       " 'simplify',\n",
       " 'svg',\n",
       " 'symmetric_difference',\n",
       " 'to_wkb',\n",
       " 'to_wkt',\n",
       " 'touches',\n",
       " 'type',\n",
       " 'union',\n",
       " 'within',\n",
       " 'wkb',\n",
       " 'wkb_hex',\n",
       " 'wkt',\n",
       " 'x',\n",
       " 'xy',\n",
       " 'y',\n",
       " 'z']"
      ]
     },
     "execution_count": 9,
     "metadata": {},
     "output_type": "execute_result"
    }
   ],
   "source": [
    "[i for i in dir(test) if '__' not in i]"
   ]
  },
  {
   "cell_type": "markdown",
   "metadata": {},
   "source": [
    "You might recognize a few things in there:\n",
    "\n",
    "1. Within\n",
    "2. Touches\n",
    "3. Overlaps\n",
    "4. Intersects\n",
    "\n",
    "... okay, maybe more than a few. These are all the spatial operations & relationships that we discussed in 601! In fact, shapely implements a set of these relationsihps known as the [Dimensionally Extended 9-Intersection Model](http://en.wikipedia.org/wiki/DE-9IM), which is just a fancy formal ordering of spaital relationships that you know already. These will yield `True` or `False` depending on whether the spatial query is satisfied. \n",
    "\n",
    "There are also other types of *operators*:\n",
    "\n",
    "1. Union\n",
    "2. Intersection\n",
    "3. Difference\n",
    "4. Symmetric Difference\n",
    "5. Buffer\n",
    "\n",
    "These operators generate *new* shapely objects from the current shapely objects. Of note is that `intersects` returns a Boolean (True $\\mapsto$ does intersect) but `intersection` returns a new shape. The easiest way to remember is to consider that `intersects` is a preposition, or a word that indicates a location, like \"on,\" \"at,\" \"in,\" or \"near,\" but `intersection` is a noun."
   ]
  },
  {
   "cell_type": "markdown",
   "metadata": {},
   "source": [
    "One trick that might be helpful is the use of `.buffer(0)` to [fix topological errors in your data](http://sgillies.net/blog/1106/fiona-and-shapely-spatially-cleaning-features/). Since `Shapely` is a wrapper for [`GEOS`](http://trac.osgeo.org/geos/), this redraws the data, connecting potentially unconnected lines and removing bowties. If you ever get errors about polygon self-insertion, then apply this trick to the shape. "
   ]
  },
  {
   "cell_type": "markdown",
   "metadata": {},
   "source": [
    "In addition to these kinds of functions used *by shapes*, we imported the `shapely.ops` submodule as `geoproc`. Let's see what's in there:"
   ]
  },
  {
   "cell_type": "code",
   "execution_count": 10,
   "metadata": {
    "collapsed": false
   },
   "outputs": [
    {
     "data": {
      "text/plain": [
       "['BaseGeometry',\n",
       " 'CollectionOperator',\n",
       " 'Point',\n",
       " 'ValidateOp',\n",
       " 'asLineString',\n",
       " 'asMultiLineString',\n",
       " 'asShape',\n",
       " 'byref',\n",
       " 'c_double',\n",
       " 'c_void_p',\n",
       " 'cascaded_union',\n",
       " 'geom_factory',\n",
       " 'izip',\n",
       " 'lgeos',\n",
       " 'linemerge',\n",
       " 'nearest_points',\n",
       " 'operator',\n",
       " 'polygonize',\n",
       " 'polygonize_full',\n",
       " 'snap',\n",
       " 'sys',\n",
       " 'transform',\n",
       " 'triangulate',\n",
       " 'unary_union',\n",
       " 'validate']"
      ]
     },
     "execution_count": 10,
     "metadata": {},
     "output_type": "execute_result"
    }
   ],
   "source": [
    "[i for i in dir(geoproc) if '__' not in i]"
   ]
  },
  {
   "cell_type": "markdown",
   "metadata": {},
   "source": [
    "Here, we can see operations like\n",
    "\n",
    "1. `snap`\n",
    "2. `cascaded_union`\n",
    "3. `nearest_points`\n",
    "4. `transform`\n",
    "5. `triangulate`\n",
    "6. `validate`\n",
    "7. `as*`\n",
    "\n",
    "Of most help might be the `cascaded_union` operation, which is a fast way to generate a union of many different shapes. Remember that you can bring up a function's docstring in ipython with the `?` operator:"
   ]
  },
  {
   "cell_type": "code",
   "execution_count": 11,
   "metadata": {
    "collapsed": false
   },
   "outputs": [],
   "source": [
    "?geoproc.snap"
   ]
  },
  {
   "cell_type": "markdown",
   "metadata": {},
   "source": [
    "### Example: What Schools are in what Employment Regions?"
   ]
  },
  {
   "cell_type": "markdown",
   "metadata": {},
   "source": [
    "To do this, we will do a simple point-in-polygon kind of search, but this time, we'll use the dataframes we've made. First, we are trying to find regions that contain some school. "
   ]
  },
  {
   "cell_type": "markdown",
   "metadata": {},
   "source": [
    "So, let's reason through this.\n",
    "\n",
    "1. for every polygon,\n",
    "2. for every school,\n",
    "3. is the school in the polygon?\n",
    "    1. if so, attach that school to that polygon\n",
    "    2. if not, do nothing"
   ]
  },
  {
   "cell_type": "markdown",
   "metadata": {},
   "source": [
    "There are many ways to do this. \n",
    "\n",
    "The way I would do this would be\n",
    "\n",
    "1. for-loop that grabs all of the polygons associated with the employment regions. \n",
    "2. inner loop (or list comprehension!) that gives me a list of schools that are within the polygon. \n",
    "3. build a list of lists, where each element is a list of the schools in the polygon. "
   ]
  },
  {
   "cell_type": "code",
   "execution_count": 12,
   "metadata": {
    "collapsed": false
   },
   "outputs": [],
   "source": [
    "school_in = []\n",
    "for poly in social['shapes']:\n",
    "    inlist = [name for name, school in zip(schools['name'], schools['shapes']) if poly.contains(school)]\n",
    "    school_in.append(inlist)\n",
    "social['schools'] = pandas.Series(school_in)"
   ]
  },
  {
   "cell_type": "code",
   "execution_count": 13,
   "metadata": {
    "collapsed": false
   },
   "outputs": [
    {
     "data": {
      "text/html": [
       "<div style=\"max-height:1000px;max-width:1500px;overflow:auto;\">\n",
       "<table border=\"1\" class=\"dataframe\">\n",
       "  <thead>\n",
       "    <tr style=\"text-align: right;\">\n",
       "      <th></th>\n",
       "      <th>ASIAN_</th>\n",
       "      <th>BLACK_</th>\n",
       "      <th>EMP16_2</th>\n",
       "      <th>EMPL16</th>\n",
       "      <th>EMP_29</th>\n",
       "      <th>EMP_30</th>\n",
       "      <th>EMP_AWAY</th>\n",
       "      <th>EMP_FEM</th>\n",
       "      <th>EMP_HOME</th>\n",
       "      <th>EMP_MALE</th>\n",
       "      <th>...</th>\n",
       "      <th>OCC_OFF1</th>\n",
       "      <th>POLYID</th>\n",
       "      <th>POP_16</th>\n",
       "      <th>POP_65</th>\n",
       "      <th>POV_POP</th>\n",
       "      <th>POV_TOT</th>\n",
       "      <th>TOT_POP</th>\n",
       "      <th>WHITE_</th>\n",
       "      <th>shapes</th>\n",
       "      <th>schools</th>\n",
       "    </tr>\n",
       "  </thead>\n",
       "  <tbody>\n",
       "    <tr>\n",
       "      <th>0</th>\n",
       "      <td> 82</td>\n",
       "      <td> 29</td>\n",
       "      <td> 2972</td>\n",
       "      <td> 2889</td>\n",
       "      <td> 1573</td>\n",
       "      <td> 1033</td>\n",
       "      <td> 2606</td>\n",
       "      <td> 1187</td>\n",
       "      <td> 283</td>\n",
       "      <td> 1785</td>\n",
       "      <td>...</td>\n",
       "      <td> 663</td>\n",
       "      <td> 1</td>\n",
       "      <td> 1077</td>\n",
       "      <td> 518</td>\n",
       "      <td> 5461</td>\n",
       "      <td> 470</td>\n",
       "      <td> 5501</td>\n",
       "      <td> 4961</td>\n",
       "      <td> POLYGON ((-120.217504 39.162085, -120.220064 3...</td>\n",
       "      <td>                                                []</td>\n",
       "    </tr>\n",
       "    <tr>\n",
       "      <th>1</th>\n",
       "      <td> 28</td>\n",
       "      <td>  0</td>\n",
       "      <td> 1175</td>\n",
       "      <td> 1151</td>\n",
       "      <td>  908</td>\n",
       "      <td>  159</td>\n",
       "      <td> 1067</td>\n",
       "      <td>  522</td>\n",
       "      <td>  84</td>\n",
       "      <td>  653</td>\n",
       "      <td>...</td>\n",
       "      <td> 229</td>\n",
       "      <td> 2</td>\n",
       "      <td>  396</td>\n",
       "      <td> 109</td>\n",
       "      <td> 2052</td>\n",
       "      <td> 160</td>\n",
       "      <td> 2072</td>\n",
       "      <td> 1603</td>\n",
       "      <td> POLYGON ((-120.064072 39.236687, -120.064115 3...</td>\n",
       "      <td>                                                []</td>\n",
       "    </tr>\n",
       "    <tr>\n",
       "      <th>2</th>\n",
       "      <td>  0</td>\n",
       "      <td>  9</td>\n",
       "      <td> 1857</td>\n",
       "      <td> 1791</td>\n",
       "      <td> 1354</td>\n",
       "      <td>  338</td>\n",
       "      <td> 1692</td>\n",
       "      <td>  698</td>\n",
       "      <td>  99</td>\n",
       "      <td> 1159</td>\n",
       "      <td>...</td>\n",
       "      <td> 197</td>\n",
       "      <td> 3</td>\n",
       "      <td>  911</td>\n",
       "      <td> 126</td>\n",
       "      <td> 3604</td>\n",
       "      <td> 668</td>\n",
       "      <td> 3633</td>\n",
       "      <td> 1624</td>\n",
       "      <td> POLYGON ((-120.00526 39.279982, -120.005266 39...</td>\n",
       "      <td>                                                []</td>\n",
       "    </tr>\n",
       "    <tr>\n",
       "      <th>3</th>\n",
       "      <td> 55</td>\n",
       "      <td>  0</td>\n",
       "      <td> 1026</td>\n",
       "      <td> 1013</td>\n",
       "      <td>  789</td>\n",
       "      <td>  165</td>\n",
       "      <td>  954</td>\n",
       "      <td>  519</td>\n",
       "      <td>  59</td>\n",
       "      <td>  507</td>\n",
       "      <td>...</td>\n",
       "      <td> 256</td>\n",
       "      <td> 4</td>\n",
       "      <td>  281</td>\n",
       "      <td> 154</td>\n",
       "      <td> 1683</td>\n",
       "      <td> 116</td>\n",
       "      <td> 1683</td>\n",
       "      <td> 1564</td>\n",
       "      <td> POLYGON ((-120.095366 39.197183, -120.095761 3...</td>\n",
       "      <td>                                                []</td>\n",
       "    </tr>\n",
       "    <tr>\n",
       "      <th>4</th>\n",
       "      <td> 13</td>\n",
       "      <td> 17</td>\n",
       "      <td> 2730</td>\n",
       "      <td> 2633</td>\n",
       "      <td>  739</td>\n",
       "      <td> 1684</td>\n",
       "      <td> 2423</td>\n",
       "      <td> 1260</td>\n",
       "      <td> 210</td>\n",
       "      <td> 1470</td>\n",
       "      <td>...</td>\n",
       "      <td> 506</td>\n",
       "      <td> 5</td>\n",
       "      <td> 1278</td>\n",
       "      <td> 830</td>\n",
       "      <td> 5771</td>\n",
       "      <td> 342</td>\n",
       "      <td> 5794</td>\n",
       "      <td> 5185</td>\n",
       "      <td> POLYGON ((-121.038014 38.931727, -121.037162 3...</td>\n",
       "      <td> [El Dorado High School, Nevada Union High School]</td>\n",
       "    </tr>\n",
       "  </tbody>\n",
       "</table>\n",
       "<p>5 rows × 33 columns</p>\n",
       "</div>"
      ],
      "text/plain": [
       "   ASIAN_  BLACK_  EMP16_2  EMPL16  EMP_29  EMP_30  EMP_AWAY  EMP_FEM  \\\n",
       "0      82      29     2972    2889    1573    1033      2606     1187   \n",
       "1      28       0     1175    1151     908     159      1067      522   \n",
       "2       0       9     1857    1791    1354     338      1692      698   \n",
       "3      55       0     1026    1013     789     165       954      519   \n",
       "4      13      17     2730    2633     739    1684      2423     1260   \n",
       "\n",
       "   EMP_HOME  EMP_MALE                        ...                          \\\n",
       "0       283      1785                        ...                           \n",
       "1        84       653                        ...                           \n",
       "2        99      1159                        ...                           \n",
       "3        59       507                        ...                           \n",
       "4       210      1470                        ...                           \n",
       "\n",
       "   OCC_OFF1  POLYID POP_16  POP_65  POV_POP  POV_TOT  TOT_POP  WHITE_  \\\n",
       "0       663       1   1077     518     5461      470     5501    4961   \n",
       "1       229       2    396     109     2052      160     2072    1603   \n",
       "2       197       3    911     126     3604      668     3633    1624   \n",
       "3       256       4    281     154     1683      116     1683    1564   \n",
       "4       506       5   1278     830     5771      342     5794    5185   \n",
       "\n",
       "                                              shapes  \\\n",
       "0  POLYGON ((-120.217504 39.162085, -120.220064 3...   \n",
       "1  POLYGON ((-120.064072 39.236687, -120.064115 3...   \n",
       "2  POLYGON ((-120.00526 39.279982, -120.005266 39...   \n",
       "3  POLYGON ((-120.095366 39.197183, -120.095761 3...   \n",
       "4  POLYGON ((-121.038014 38.931727, -121.037162 3...   \n",
       "\n",
       "                                             schools  \n",
       "0                                                 []  \n",
       "1                                                 []  \n",
       "2                                                 []  \n",
       "3                                                 []  \n",
       "4  [El Dorado High School, Nevada Union High School]  \n",
       "\n",
       "[5 rows x 33 columns]"
      ]
     },
     "execution_count": 13,
     "metadata": {},
     "output_type": "execute_result"
    }
   ],
   "source": [
    "social.head()"
   ]
  },
  {
   "cell_type": "markdown",
   "metadata": {},
   "source": [
    "Now, I could've clearly done this in two for loops or two nested list comprehensions, but I decided to do it this way because I think about it in this way. Whatever makes more sense to you, use. But, the end goal should be the dataframe above. "
   ]
  },
  {
   "cell_type": "markdown",
   "metadata": {},
   "source": [
    "###Example: Wild Schools"
   ]
  },
  {
   "cell_type": "markdown",
   "metadata": {},
   "source": [
    "Let's say I'm interested in making a new dataset of schools in wildnerness areas. In our sacramento data, we have `wilds` and `schools`, which correspond to wilderness areas and school point locations.  \n",
    "\n",
    "So, how do we do this?"
   ]
  },
  {
   "cell_type": "markdown",
   "metadata": {},
   "source": [
    "If you're thinking from GIS training, you'd be thinking of *clipping* the point dataset by the polygon dataset, keeping only points within the clipping area. You could also do a point-in-polygon search, keeping only points within polygons. Let's use the clipping method. \n",
    "\n",
    "To do this, we can build a multipolygon that represents all of the wilds. Think of the multipolygon as your GIS Layer!"
   ]
  },
  {
   "cell_type": "code",
   "execution_count": 14,
   "metadata": {
    "collapsed": false
   },
   "outputs": [
    {
     "data": {
      "text/plain": [
       "0    POLYGON ((-120.9252222698742 39.09839173316983...\n",
       "1    POLYGON ((-121.5450953163695 38.55763331612199...\n",
       "2    POLYGON ((-121.5346034121059 38.64525489497242...\n",
       "3    POLYGON ((-121.4929193600314 38.40706031168967...\n",
       "4    POLYGON ((-121.4849795405886 38.35573505029183...\n",
       "5    POLYGON ((-121.3374548596924 38.67729773772356...\n",
       "6    POLYGON ((-121.2402629627636 38.7815787591548,...\n",
       "7    POLYGON ((-121.1367617450276 38.8187257715477,...\n",
       "8    POLYGON ((-121.0933054118275 38.80965169218455...\n",
       "9    POLYGON ((-121.0597029616859 38.91726460213195...\n",
       "Name: shapes, dtype: object"
      ]
     },
     "execution_count": 14,
     "metadata": {},
     "output_type": "execute_result"
    }
   ],
   "source": [
    "wilds['shapes']"
   ]
  },
  {
   "cell_type": "code",
   "execution_count": 15,
   "metadata": {
    "collapsed": false
   },
   "outputs": [],
   "source": [
    "wild_layer = geom.MultiPolygon([shp for shp in wilds['shapes']])"
   ]
  },
  {
   "cell_type": "code",
   "execution_count": 16,
   "metadata": {
    "collapsed": false
   },
   "outputs": [
    {
     "data": {
      "image/svg+xml": [
       "<svg xmlns=\"http://www.w3.org/2000/svg\" xmlns:xlink=\"http://www.w3.org/1999/xlink\" width=\"100.0\" height=\"100.0\" viewBox=\"-121.637171221 38.2601145836 1.82761153703 1.12405073262\" preserveAspectRatio=\"xMinYMin meet\"><g transform=\"matrix(1,0,0,-1,0,77.6442798998)\"><g><path fill-rule=\"evenodd\" fill=\"#66cc99\" stroke=\"#555555\" stroke-width=\"0.0365522307406\" opacity=\"0.6\" d=\"M -120.92522227,39.0983917332 L -120.913253242,39.163622934 L -120.912872,39.163695 L -120.912189,39.163686 L -120.911789,39.163876 L -120.911244,39.164036 L -120.910476,39.163916 L -120.909434,39.163467 L -120.90855,39.163752 L -120.907871,39.165051 L -120.907297,39.165299 L -120.90629,39.165642 L -120.905968,39.166129 L -120.906051,39.166669 L -120.906113,39.167193 L -120.906815,39.167661 L -120.908928,39.168557 L -120.909195,39.168787 L -120.909194,39.169846 L -120.909105,39.170123 L -120.90878,39.170352 L -120.905526,39.171342 L -120.905259,39.171526 L -120.905022,39.171987 L -120.904756,39.172931 L -120.904548,39.173092 L -120.903128,39.17316 L -120.902389,39.173759 L -120.901827,39.173874 L -120.900555,39.17385 L -120.900229,39.174057 L -120.899697,39.175024 L -120.89946,39.175254 L -120.898187,39.175761 L -120.897359,39.176497 L -120.896886,39.176635 L -120.896411,39.176622 L -120.896084,39.176441 L -120.895021,39.175837 L -120.894693,39.175607 L -120.894341,39.175468 L -120.892847,39.175258 L -120.892407,39.175347 L -120.892367,39.175657 L -120.892318,39.176056 L -120.892053,39.176673 L -120.891465,39.17697 L -120.890906,39.177085 L -120.889202,39.176558 L -120.88832,39.176374 L -120.887262,39.176442 L -120.886703,39.176625 L -120.886174,39.177151 L -120.885672,39.17818 L -120.885084,39.178363 L -120.883291,39.178408 L -120.882732,39.178591 L -120.882262,39.178865 L -120.88185,39.178979 L -120.881321,39.178933 L -120.879882,39.177972 L -120.87947,39.178086 L -120.879176,39.178252 L -120.878706,39.17852 L -120.876623,39.179002 L -120.876058,39.179188 L -120.87523,39.179534 L -120.873851,39.179811 L -120.872882,39.179768 L -120.872118,39.179404 L -120.871707,39.179382 L -120.871033,39.179611 L -120.869537,39.180392 L -120.868981,39.18085 L -120.868484,39.181719 L -120.868397,39.182177 L -120.868928,39.183112 L -120.869665,39.18439 L -120.869666,39.18487 L -120.86949,39.185076 L -120.86905,39.185351 L -120.867495,39.185605 L -120.867232,39.185744 L -120.867232,39.186132 L -120.867616,39.186863 L -120.867411,39.187205 L -120.865621,39.187621 L -120.865211,39.187849 L -120.865212,39.188216 L -120.865476,39.188558 L -120.866945,39.188861 L -120.867267,39.189206 L -120.867177,39.189526 L -120.866911,39.189754 L -120.86644,39.189888 L -120.865322,39.190043 L -120.864674,39.190567 L -120.86429,39.190725 L -120.863145,39.190789 L -120.862761,39.190992 L -120.862259,39.191699 L -120.861876,39.191972 L -120.861021,39.192403 L -120.860696,39.19279 L -120.860705,39.19339 L -120.860782,39.19351 L -120.86096,39.193781 L -120.861201,39.194067 L -120.861327,39.194362 L -120.861395,39.194795 L -120.861305,39.195037 L -120.861061,39.19528 L -120.860892,39.195343 L -120.860236,39.195598 L -120.859166,39.195853 L -120.858808,39.196108 L -120.858273,39.196733 L -120.857886,39.197429 L -120.857887,39.19746 L -120.857913,39.198369 L -120.858059,39.199011 L -120.857941,39.199217 L -120.857026,39.200017 L -120.856936,39.200177 L -120.856965,39.200452 L -120.857788,39.201372 L -120.857728,39.201692 L -120.857254,39.202837 L -120.857195,39.203342 L -120.856633,39.204165 L -120.856662,39.204394 L -120.857102,39.204805 L -120.858043,39.20542 L -120.858249,39.205695 L -120.85819,39.206037 L -120.857809,39.206312 L -120.855549,39.206816 L -120.855197,39.207067 L -120.855021,39.207387 L -120.854905,39.208689 L -120.85467,39.208895 L -120.854377,39.209009 L -120.853643,39.209078 L -120.853525,39.20917 L -120.853615,39.209718 L -120.853674,39.210403 L -120.853321,39.210608 L -120.852382,39.210883 L -120.852178,39.211066 L -120.851884,39.211843 L -120.851503,39.212141 L -120.850035,39.212301 L -120.849213,39.212576 L -120.847922,39.21317 L -120.845809,39.213811 L -120.844933,39.213604 L -120.844752,39.213562 L -120.843475,39.213837 L -120.842006,39.214674 L -120.841487,39.215076 L -120.840193,39.21511 L -120.839253,39.215371 L -120.838958,39.215554 L -120.838548,39.216249 L -120.838245,39.216752 L -120.837813,39.217187 L -120.837597,39.217355 L -120.836949,39.217489 L -120.836215,39.217489 L -120.835223,39.217757 L -120.834014,39.218226 L -120.833279,39.218863 L -120.832889,39.219332 L -120.832728,39.219645 L -120.832599,39.219779 L -120.832548,39.219833 L -120.832284,39.219968 L -120.831809,39.219968 L -120.831507,39.219834 L -120.831441,39.219745 L -120.831335,39.2196 L -120.831107,39.219719 L -120.83096,39.219764 L -120.830754,39.220702 L -120.83049,39.221252 L -120.829813,39.221663 L -120.829225,39.221618 L -120.828637,39.22116 L -120.828372,39.221069 L -120.827931,39.221137 L -120.827725,39.221366 L -120.827725,39.221915 L -120.827931,39.222236 L -120.828814,39.223013 L -120.828902,39.223242 L -120.828725,39.223494 L -120.828078,39.223768 L -120.827078,39.2237 L -120.826431,39.223769 L -120.825137,39.224272 L -120.825049,39.224455 L -120.824931,39.225347 L -120.824784,39.225507 L -120.82452,39.225553 L -120.823402,39.225416 L -120.822784,39.225462 L -120.822608,39.225599 L -120.821902,39.226743 L -120.821665,39.226767 L -120.821043,39.22723 L -120.819946,39.227048 L -120.819264,39.227094 L -120.818938,39.227326 L -120.818938,39.227625 L -120.819266,39.228156 L -120.819207,39.228455 L -120.81903,39.228663 L -120.817993,39.22892 L -120.81749,39.229358 L -120.816809,39.229637 L -120.816453,39.229914 L -120.815268,39.230171 L -120.814852,39.230171 L -120.813991,39.229735 L -120.813666,39.229828 L -120.813548,39.230312 L -120.813252,39.230567 L -120.812363,39.230684 L -120.811948,39.230846 L -120.811623,39.231147 L -120.811061,39.231978 L -120.810488,39.232346 L -120.809317,39.232522 L -120.807813,39.233116 L -120.806701,39.233292 L -120.804242,39.233317 L -120.803671,39.233476 L -120.803217,39.233985 L -120.802816,39.235147 L -120.802575,39.235401 L -120.802243,39.235515 L -120.801195,39.235343 L -120.800683,39.235361 L -120.800126,39.235668 L -120.799766,39.235967 L -120.799771,39.236918 L -120.79959,39.237454 L -120.798601,39.238483 L -120.797342,39.239056 L -120.796302,39.239401 L -120.794967,39.240265 L -120.794465,39.240525 L -120.793019,39.240663 L -120.792568,39.240789 L -120.792428,39.240897 L -120.791769,39.241347 L -120.791126,39.242249 L -120.790611,39.242764 L -120.789831,39.243249 L -120.788192,39.243849 L -120.787709,39.244251 L -120.78683,39.245101 L -120.785264,39.246346 L -120.784983,39.246913 L -120.784972,39.247349 L -120.785197,39.247791 L -120.784977,39.248313 L -120.784447,39.248634 L -120.783417,39.248976 L -120.782446,39.249068 L -120.78121,39.249519 L -120.780859,39.249899 L -120.780038,39.250594 L -120.777036,39.252103 L -120.776682,39.252446 L -120.776535,39.252721 L -120.776535,39.253567 L -120.776387,39.25391 L -120.776064,39.254185 L -120.774798,39.254573 L -120.774327,39.255397 L -120.773974,39.255603 L -120.77365,39.25558 L -120.772914,39.255351 L -120.772532,39.255419 L -120.771943,39.255831 L -120.770825,39.2559 L -120.77006,39.256174 L -120.768971,39.256357 L -120.768263,39.257014 L -120.768057,39.25702 L -120.76791,39.25727 L -120.767894,39.257283 L -120.766938,39.258048 L -120.766585,39.258688 L -120.766555,39.25926 L -120.766378,39.25958 L -120.765289,39.260495 L -120.764817,39.261296 L -120.764522,39.262851 L -120.764345,39.263103 L -120.762255,39.264109 L -120.761931,39.264154 L -120.76099,39.264131 L -120.759636,39.263993 L -120.758547,39.264084 L -120.75684,39.264266 L -120.756281,39.264678 L -120.755514,39.266004 L -120.754896,39.266599 L -120.753217,39.267673 L -120.752864,39.267993 L -120.75254,39.268725 L -120.751427,39.269042 L -120.751048,39.26915 L -120.750471,39.269598 L -120.750295,39.26985 L -120.749266,39.270583 L -120.74903,39.270949 L -120.749002,39.272481 L -120.748767,39.273008 L -120.747591,39.274678 L -120.747209,39.27493 L -120.745532,39.275297 L -120.744472,39.275938 L -120.744237,39.27635 L -120.743944,39.277243 L -120.743649,39.277403 L -120.742767,39.277655 L -120.741913,39.278159 L -120.741325,39.278662 L -120.739765,39.278937 L -120.73847,39.279395 L -120.738117,39.279693 L -120.737764,39.280128 L -120.737088,39.280471 L -120.736853,39.281364 L -120.736588,39.281798 L -120.736265,39.282004 L -120.735029,39.282462 L -120.733646,39.283584 L -120.732675,39.284065 L -120.732204,39.284545 L -120.730733,39.285346 L -120.730084,39.28585 L -120.729672,39.286308 L -120.728849,39.287543 L -120.728437,39.287864 L -120.727024,39.28839 L -120.725287,39.288894 L -120.723727,39.289123 L -120.722521,39.289719 L -120.721726,39.289993 L -120.720136,39.29036 L -120.718635,39.290886 L -120.716634,39.291893 L -120.716045,39.292099 L -120.714926,39.292191 L -120.714249,39.292146 L -120.711717,39.292192 L -120.710981,39.292329 L -120.710658,39.292604 L -120.709745,39.293977 L -120.708509,39.295327 L -120.708068,39.295601 L -120.706831,39.296127 L -120.705477,39.296562 L -120.703917,39.29805 L -120.703564,39.299216 L -120.703211,39.299582 L -120.702798,39.299788 L -120.702386,39.299857 L -120.701444,39.299697 L -120.700914,39.299857 L -120.700384,39.300223 L -120.700001,39.300315 L -120.699118,39.300315 L -120.698988,39.300357 L -120.698559,39.300498 L -120.698176,39.300978 L -120.697882,39.301116 L -120.695997,39.301299 L -120.695349,39.301573 L -120.694554,39.301596 L -120.693259,39.301848 L -120.692847,39.302122 L -120.691669,39.303609 L -120.691551,39.304158 L -120.69108,39.304158 L -120.689754,39.303861 L -120.688989,39.303998 L -120.687487,39.304662 L -120.686191,39.304776 L -120.685897,39.30489 L -120.685514,39.305485 L -120.683453,39.306377 L -120.682393,39.306949 L -120.682157,39.306949 L -120.681568,39.306697 L -120.681277,39.306388 L -120.681096,39.306194 L -120.680944,39.306094 L -120.680712,39.305942 L -120.680153,39.306011 L -120.679883,39.306175 L -120.67966,39.306321 L -120.679321,39.306545 L -120.678269,39.307155 L -120.676211,39.307316 L -120.675917,39.307455 L -120.675682,39.307706 L -120.675652,39.30798 L -120.67504,39.308697 L -120.67483,39.308941 L -120.674388,39.309262 L -120.671618,39.310382 L -120.671205,39.310359 L -120.670675,39.310199 L -120.67044,39.309993 L -120.670469,39.30933 L -120.670617,39.309054 L -120.67047,39.308437 L -120.670146,39.308208 L -120.668408,39.308253 L -120.668054,39.308345 L -120.667612,39.308779 L -120.666964,39.309557 L -120.666817,39.309625 L -120.665573,39.30975 L -120.665406,39.309637 L -120.665116,39.309427 L -120.664638,39.309156 L -120.664026,39.309349 L -120.663854,39.309421 L -120.66325,39.309563 L -120.662642,39.309542 L -120.661745,39.30934 L -120.661099,39.309118 L -120.660722,39.30891 L -120.660615,39.308764 L -120.660283,39.308686 L -120.659701,39.308269 L -120.659002,39.308063 L -120.657632,39.308054 L -120.656583,39.30825 L -120.656215,39.308147 L -120.656042,39.308106 L -120.655515,39.308186 L -120.654234,39.309317 L -120.65346,39.309628 L -120.651859,39.309827 L -120.651113,39.310154 L -120.650802,39.31019 L -120.650032,39.310559 L -120.648694,39.311234 L -120.647827,39.311543 L -120.64712,39.312514 L -120.646494,39.31305 L -120.645705,39.314134 L -120.645266,39.314958 L -120.640719,39.31512 L -120.639535,39.315001 L -120.636375,39.315228 L -120.630806,39.315197 L -120.628124,39.314342 L -120.627432,39.314182 L -120.622747,39.315319 L -120.621507,39.315162 L -120.620628,39.314989 L -120.618951,39.314625 L -120.617347,39.31435 L -120.610809,39.3152 L -120.608867,39.315452 L -120.607489,39.315456 L -120.599014,39.315483 L -120.596443,39.315489 L -120.593374,39.315458 L -120.585588,39.315131 L -120.585176,39.315128 L -120.584384,39.315101 L -120.579908,39.314967 L -120.579599,39.315102 L -120.576732,39.315479 L -120.576607,39.315479 L -120.567801,39.315543 L -120.563806,39.315572 L -120.557041,39.315594 L -120.556219,39.315567 L -120.555896,39.315605 L -120.554172,39.315594 L -120.551786,39.315434 L -120.550193,39.315426 L -120.549057,39.315483 L -120.549579,39.314938 L -120.549097,39.315126 L -120.549023,39.315228 L -120.548222,39.315264 L -120.548409,39.315189 L -120.548551,39.315143 L -120.548712,39.315048 L -120.548941,39.314886 L -120.549159,39.314465 L -120.547343,39.314848 L -120.546462,39.315033 L -120.546284,39.315071 L -120.546146,39.3151 L -120.545398,39.315139 L -120.53555,39.31566 L -120.525491,39.315696 L -120.513265,39.315739 L -120.501005,39.315801 L -120.494453,39.315999 L -120.488345,39.316056 L -120.48742,39.316077 L -120.485927,39.316076 L -120.48053,39.31612 L -120.464608,39.31601 L -120.464454,39.31601 L -120.461095,39.316124 L -120.460519,39.316074 L -120.456484,39.316134 L -120.455731,39.316143 L -120.453497,39.316126 L -120.451701,39.316195 L -120.450951,39.316244 L -120.450208,39.316271 L -120.449934,39.316241 L -120.44558,39.315988 L -120.444486,39.315786 L -120.437009,39.316152 L -120.436272,39.316196 L -120.428197,39.316183 L -120.427086,39.316179 L -120.418129,39.316216 L -120.408338,39.316256 L -120.398545,39.316297 L -120.388751,39.316337 L -120.37896,39.31638 L -120.377914,39.316382 L -120.377807,39.316383 L -120.377613,39.316384 L -120.377177,39.316401 L -120.376547,39.316405 L -120.376036,39.316407 L -120.360268,39.316301 L -120.359795,39.316299 L -120.356246,39.316295 L -120.354398,39.316294 L -120.350783,39.316088 L -120.348734,39.316111 L -120.339219,39.316065 L -120.338219,39.316028 L -120.336932,39.315616 L -120.335502,39.314874 L -120.332399,39.315662 L -120.332212,39.315743 L -120.330114,39.315861 L -120.329864,39.315875 L -120.329376,39.315958 L -120.328609,39.316045 L -120.328195,39.316255 L -120.326092,39.316385 L -120.32238,39.316425 L -120.319143,39.316419 L -120.306487,39.31639 L -120.30158,39.316357 L -120.300191,39.316358 L -120.292076,39.316222 L -120.288624,39.316125 L -120.287745,39.316017 L -120.286797,39.316016 L -120.285996,39.316029 L -120.285205,39.316103 L -120.284721,39.316288 L -120.281708,39.316277 L -120.2756,39.315911 L -120.271235,39.316064 L -120.26989,39.316075 L -120.25435,39.316238 L -120.251026,39.316227 L -120.236196,39.316254 L -120.236148,39.316249 L -120.230934,39.315712 L -120.229315,39.315797 L -120.224322,39.316249 L -120.222532,39.31626 L -120.220672,39.316263 L -120.214101,39.316241 L -120.212654,39.316235 L -120.211225,39.314768 L -120.211056,39.314589 L -120.210941,39.314561 L -120.204178,39.316227 L -120.203875,39.316245 L -120.20344,39.31627 L -120.203238,39.316283 L -120.202978,39.316282 L -120.20188,39.316277 L -120.201088,39.316227 L -120.200435,39.316181 L -120.199115,39.316238 L -120.198625,39.316249 L -120.196289,39.316268 L -120.195721,39.316264 L -120.19326,39.316238 L -120.191939,39.316161 L -120.190934,39.316112 L -120.188592,39.316256 L -120.188448,39.316244 L -120.186785,39.316155 L -120.18392,39.316155 L -120.18151,39.31614 L -120.180374,39.316311 L -120.179855,39.316272 L -120.174253,39.316311 L -120.172969,39.316288 L -120.169618,39.316264 L -120.16759,39.316238 L -120.165134,39.316162 L -120.161358,39.316225 L -120.16002,39.316301 L -120.159452,39.316305 L -120.159419,39.316305 L -120.159305,39.316301 L -120.159242,39.3163 L -120.153592,39.316223 L -120.152958,39.316253 L -120.152778,39.316247 L -120.15263,39.316244 L -120.152416,39.316247 L -120.152171,39.316267 L -120.149164,39.316195 L -120.148846,39.316188 L -120.148013,39.316168 L -120.147936,39.316173 L -120.147794,39.316181 L -120.147418,39.316169 L -120.147314,39.316169 L -120.146306,39.316177 L -120.145318,39.316214 L -120.142661,39.316315 L -120.139534,39.31642 L -120.13836,39.316357 L -120.136291,39.316246 L -120.131035,39.316291 L -120.12603,39.316444 L -120.125919,39.316444 L -120.123877,39.316271 L -120.110618,39.316282 L -120.097504,39.316291 L -120.097298,39.316291 L -120.079383,39.316303 L -120.061469,39.316315 L -120.050726,39.315111 L -120.044571,39.316441 L -120.044072,39.316443 L -120.042505,39.316438 L -120.040917,39.31643 L -120.039951,39.316476 L -120.038791,39.31644 L -120.038667,39.316431 L -120.036779,39.316335 L -120.036459,39.316324 L -120.018483,39.31634 L -120.011681,39.316345 L -120.009503,39.31632 L -120.005321,39.316351 L -120.005318,39.316147 L -120.005399,39.313853 L -120.005403,39.313749 L -120.005411,39.313503 L -120.005415,39.313345 L -120.005278,39.302301 L -120.005143,39.291258 L -120.005146,39.291066 L -120.00517,39.289538 L -120.00526,39.279982 L -120.005266,39.27943 L -120.005379,39.270505 L -120.005509,39.260206 L -120.005641,39.249907 L -120.005378,39.248151 L -120.005384,39.244879 L -120.005386,39.243963 L -120.005566,39.236233 L -120.005729,39.229241 L -120.005745,39.228862 L -120.005714,39.228299 L -120.005735,39.227984 L -120.005685,39.227358 L -120.005701,39.226978 L -120.005714,39.226144 L -120.005714,39.225868 L -120.005746,39.225211 L -120.005687,39.22274 L -120.00557,39.218029 L -120.005528,39.216306 L -120.005211,39.203374 L -120.004931,39.190676 L -120.00465,39.177978 L -120.004602,39.175779 L -120.004463,39.165591 L -120.0043,39.157173 L -120.004137,39.148756 L -120.004016,39.140189 L -120.003895,39.131624 L -120.003781,39.124908 L -120.003429,39.112688 L -120.003247,39.104187 L -120.003064,39.095687 L -120.002882,39.087187 L -120.002701,39.078687 L -120.002461,39.06749 L -120.002387,39.064038 L -120.002089,39.050103 L -120.00179,39.036169 L -120.001551,39.025012 L -120.001312,39.013855 L -120.001171,39.007213 L -120.001015,38.999908 L -120.001015,38.999574 L -119.991973,38.993361 L -119.984333,38.98811 L -119.976693,38.98286 L -119.967241,38.976365 L -119.965979,38.975498 L -119.965264,38.975006 L -119.95134,38.965438 L -119.949572,38.964216 L -119.945966,38.961896 L -119.945011,38.961282 L -119.943133,38.960024 L -119.94209,38.959265 L -119.942003,38.959202 L -119.940684,38.958271 L -119.940067,38.957838 L -119.939857,38.957691 L -119.938759,38.956914 L -119.938566,38.956792 L -119.936435,38.955356 L -119.931848,38.952302 L -119.923219,38.946354 L -119.914591,38.940407 L -119.904315,38.933325 L -119.904411,38.932131 L -119.904351,38.931113 L -119.904655,38.930603 L -119.904815,38.929956 L -119.904781,38.929657 L -119.904893,38.929455 L -119.905147,38.92905 L -119.90534,38.928734 L -119.905399,38.928338 L -119.905221,38.928088 L -119.904797,38.927832 L -119.904177,38.927713 L -119.903372,38.927547 L -119.902561,38.926711 L -119.902318,38.925904 L -119.901484,38.92481 L -119.900278,38.924502 L -119.90013,38.92437 L -119.899587,38.923509 L -119.899326,38.923009 L -119.899191,38.922993 L -119.898398,38.923045 L -119.898192,38.922998 L -119.897861,38.922902 L -119.897613,38.922774 L -119.897352,38.922412 L -119.897264,38.921677 L -119.897232,38.921524 L -119.89664,38.921026 L -119.895461,38.920498 L -119.894324,38.920059 L -119.893475,38.919602 L -119.892894,38.919096 L -119.892126,38.91842 L -119.891551,38.918142 L -119.891197,38.918231 L -119.890858,38.918305 L -119.890386,38.918565 L -119.889849,38.918755 L -119.889626,38.918835 L -119.889131,38.918862 L -119.889015,38.918531 L -119.888993,38.918297 L -119.888602,38.918387 L -119.888231,38.918413 L -119.887643,38.918295 L -119.88731,38.917941 L -119.887151,38.91736 L -119.887075,38.916884 L -119.886358,38.916184 L -119.886043,38.915475 L -119.88584,38.91453 L -119.886065,38.913067 L -119.885844,38.912568 L -119.88545,38.912165 L -119.885331,38.911512 L -119.884967,38.911142 L -119.884666,38.910812 L -119.884043,38.910176 L -119.883736,38.909225 L -119.88379,38.908279 L -119.883602,38.907925 L -119.88328,38.907684 L -119.883173,38.907167 L -119.883274,38.905608 L -119.883265,38.904518 L -119.882487,38.903939 L -119.882093,38.90361 L -119.882049,38.903214 L -119.8822,38.902745 L -119.88108,38.901934 L -119.879865,38.899419 L -119.880089,38.899103 L -119.880487,38.89869 L -119.881165,38.89712 L -119.881552,38.896617 L -119.881931,38.896317 L -119.883111,38.895795 L -119.883512,38.895664 L -119.883654,38.895461 L -119.883806,38.895178 L -119.88404,38.894789 L -119.884233,38.894498 L -119.884448,38.894335 L -119.884489,38.894206 L -119.884332,38.89398 L -119.884115,38.893828 L -119.883202,38.89304 L -119.881354,38.891311 L -119.881011,38.89086 L -119.880375,38.888642 L -119.880401,38.888092 L -119.880162,38.887835 L -119.879737,38.887409 L -119.879517,38.887022 L -119.879544,38.886537 L -119.87988,38.886043 L -119.881026,38.885069 L -119.881871,38.883951 L -119.882359,38.8831 L -119.882387,38.882721 L -119.882349,38.881937 L -119.88254,38.88129 L -119.882815,38.88099 L -119.883769,38.880469 L -119.884765,38.880134 L -119.886174,38.879926 L -119.887746,38.879483 L -119.888445,38.879302 L -119.888804,38.879147 L -119.888761,38.878978 L -119.888585,38.87889 L -119.888183,38.878738 L -119.887212,38.878371 L -119.886778,38.878251 L -119.886177,38.877842 L -119.885845,38.877472 L -119.884704,38.876515 L -119.884032,38.876155 L -119.883237,38.875884 L -119.882639,38.875765 L -119.881768,38.875783 L -119.881692,38.875785 L -119.880907,38.875506 L -119.880226,38.875363 L -119.879361,38.875311 L -119.87903,38.875207 L -119.878647,38.874907 L -119.878372,38.874453 L -119.877899,38.873582 L -119.877552,38.872408 L -119.877249,38.87147 L -119.877288,38.870194 L -119.877712,38.869386 L -119.877751,38.868312 L -119.878092,38.867908 L -119.878505,38.867433 L -119.87856,38.867369 L -119.879072,38.866796 L -119.879497,38.866156 L -119.879922,38.865483 L -119.880304,38.864777 L -119.881115,38.864102 L -119.881883,38.863629 L -119.883206,38.862986 L -119.884913,38.862006 L -119.886832,38.860689 L -119.888283,38.859844 L -119.890205,38.859097 L -119.891014,38.858154 L -119.891909,38.857345 L -119.893488,38.8567 L -119.895241,38.856559 L -119.896439,38.856722 L -119.898022,38.85685 L -119.899092,38.85698 L -119.899606,38.857213 L -119.900761,38.857409 L -119.901017,38.857207 L -119.901956,38.856901 L -119.90281,38.856595 L -119.90358,38.856693 L -119.90499,38.856385 L -119.906312,38.855506 L -119.906779,38.854665 L -119.906903,38.853557 L -119.906983,38.85218 L -119.906935,38.850871 L -119.907269,38.848754 L -119.907819,38.847409 L -119.908074,38.847106 L -119.908541,38.846131 L -119.908621,38.844955 L -119.908618,38.843982 L -119.908616,38.843579 L -119.90823,38.843211 L -119.908184,38.842439 L -119.90821,38.838344 L -119.908413,38.835791 L -119.908493,38.834347 L -119.90909,38.833942 L -119.910499,38.833298 L -119.911864,38.832688 L -119.913273,38.83228 L -119.915323,38.8317 L -119.917587,38.831355 L -119.920748,38.830771 L -119.922157,38.830362 L -119.922711,38.829956 L -119.923093,38.829351 L -119.923432,38.828577 L -119.923258,38.828074 L -119.922998,38.827236 L -119.922997,38.8269 L -119.923421,38.826193 L -119.92376,38.825453 L -119.923801,38.82495 L -119.923629,38.824715 L -119.922855,38.823712 L -119.921396,38.822342 L -119.921308,38.821738 L -119.921861,38.820963 L -119.923611,38.820452 L -119.925786,38.819335 L -119.928638,38.816771 L -119.930939,38.815183 L -119.931747,38.814139 L -119.931505,38.813512 L -119.931498,38.813207 L -119.931478,38.812939 L -119.93145,38.812421 L -119.9315,38.812237 L -119.931524,38.812145 L -119.931763,38.81199 L -119.931965,38.811872 L -119.932512,38.811609 L -119.932978,38.811197 L -119.933409,38.810739 L -119.933961,38.810088 L -119.934485,38.809788 L -119.935011,38.809303 L -119.935359,38.80889 L -119.935626,38.808375 L -119.935774,38.807943 L -119.936066,38.80728 L -119.936734,38.806769 L -119.937353,38.806405 L -119.937757,38.806196 L -119.938269,38.805877 L -119.93877,38.805502 L -119.939187,38.805211 L -119.939905,38.804552 L -119.940467,38.80403 L -119.940542,38.803708 L -119.94065,38.803579 L -119.940948,38.803397 L -119.941576,38.803199 L -119.942108,38.803111 L -119.942516,38.802635 L -119.942761,38.801972 L -119.943113,38.801255 L -119.943148,38.800479 L -119.943119,38.799999 L -119.943288,38.799741 L -119.943437,38.799207 L -119.943513,38.798603 L -119.943419,38.797882 L -119.943587,38.797558 L -119.943655,38.797137 L -119.943792,38.796977 L -119.943983,38.796912 L -119.944056,38.79686 L -119.944026,38.796748 L -119.943841,38.796666 L -119.943331,38.796543 L -119.942455,38.796404 L -119.941669,38.796131 L -119.941104,38.795896 L -119.940474,38.795528 L -119.940101,38.795218 L -119.939816,38.794801 L -119.939771,38.794265 L -119.939987,38.793465 L -119.940539,38.792982 L -119.941142,38.792658 L -119.941471,38.792425 L -119.941671,38.792193 L -119.942453,38.791077 L -119.942888,38.790102 L -119.94311,38.789422 L -119.943471,38.788978 L -119.94382,38.788845 L -119.944464,38.788643 L -119.945207,38.788343 L -119.945761,38.788091 L -119.946186,38.787806 L -119.946228,38.787743 L -119.946485,38.787202 L -119.946701,38.786948 L -119.946839,38.786811 L -119.947104,38.786554 L -119.947297,38.786187 L -119.947451,38.785757 L -119.947818,38.785283 L -119.947998,38.784981 L -119.947965,38.784585 L -119.947829,38.783877 L -119.947827,38.782332 L -119.947852,38.781916 L -119.947954,38.781755 L -119.948083,38.781696 L -119.948621,38.781532 L -119.94948,38.781377 L -119.95042,38.781163 L -119.950851,38.780928 L -119.951445,38.780768 L -119.952546,38.780482 L -119.953391,38.779916 L -119.954571,38.779058 L -119.955214,38.778667 L -119.956112,38.778526 L -119.957339,38.778564 L -119.958035,38.77857 L -119.958883,38.778698 L -119.959236,38.778719 L -119.959462,38.778656 L -119.95963,38.77839 L -119.960147,38.777711 L -119.960826,38.777209 L -119.961314,38.776936 L -119.96212,38.776628 L -119.963741,38.776291 L -119.964949,38.775987 L -119.97392,38.769899 L -119.974358,38.769602 L -119.984218,38.762889 L -119.99408,38.756177 L -120.001016,38.75155 L -120.003482,38.749907 L -120.005084,38.748598 L -120.00738,38.746988 L -120.008257,38.746417 L -120.022317,38.736865 L -120.032697,38.729776 L -120.040297,38.724586 L -120.047897,38.719398 L -120.061268,38.710346 L -120.067521,38.706086 L -120.070878,38.703798 L -120.071205,38.703575 L -120.07243,38.702783 L -120.072532,38.702779 L -120.073163,38.702757 L -120.073906,38.702429 L -120.074473,38.701983 L -120.075635,38.701518 L -120.076037,38.701452 L -120.076756,38.701228 L -120.077196,38.701154 L -120.077523,38.701073 L -120.078412,38.700794 L -120.078601,38.700681 L -120.07939,38.700499 L -120.080029,38.700395 L -120.080667,38.700372 L -120.081132,38.700373 L -120.081246,38.70038 L -120.081626,38.700365 L -120.081926,38.700406 L -120.082198,38.700543 L -120.08254,38.700715 L -120.082487,38.702145 L -120.082174,38.702154 L -120.077757,38.702281 L -120.077765,38.709043 L -120.094577,38.708991 L -120.095073,38.708304 L -120.094634,38.707893 L -120.09437,38.707413 L -120.093786,38.707002 L -120.093436,38.706911 L -120.090198,38.70728 L -120.087324,38.70687 L -120.087341,38.706818 L -120.088417,38.706703 L -120.088676,38.706524 L -120.088707,38.706318 L -120.088501,38.706039 L -120.088478,38.705814 L -120.089027,38.705746 L -120.089523,38.705811 L -120.089966,38.705673 L -120.09008,38.705563 L -120.089996,38.705196 L -120.089584,38.704762 L -120.089699,38.704487 L -120.090164,38.704098 L -120.090225,38.703869 L -120.088562,38.703503 L -120.088303,38.703342 L -120.088291,38.703278 L -120.088554,38.703341 L -120.090463,38.70357 L -120.091826,38.703648 L -120.093616,38.703567 L -120.095253,38.703543 L -120.096551,38.703463 L -120.097363,38.703575 L -120.098084,38.703839 L -120.099793,38.704541 L -120.100989,38.705262 L -120.101947,38.705677 L -120.103006,38.705963 L -120.104363,38.706071 L -120.105935,38.706161 L -120.107403,38.706107 L -120.109414,38.705886 L -120.110903,38.705738 L -120.112081,38.70504 L -120.112489,38.704266 L -120.11296,38.70323 L -120.113522,38.702742 L -120.114804,38.702078 L -120.116149,38.701331 L -120.116681,38.700802 L -120.117401,38.699784 L -120.117601,38.699049 L -120.117841,38.698617 L -120.118342,38.698227 L -120.119592,38.697562 L -120.120332,38.697099 L -120.12046,38.697018 L -120.120728,38.696864 L -120.121212,38.69656 L -120.121331,38.696502 L -120.121803,38.696223 L -120.122263,38.695811 L -120.122575,38.695433 L -120.122714,38.695022 L -120.122839,38.694569 L -120.122832,38.694429 L -120.12284,38.693794 L -120.122909,38.692704 L -120.1231,38.692254 L -120.123204,38.69212 L -120.123479,38.691788 L -120.123937,38.691477 L -120.12427,38.690888 L -120.124361,38.690402 L -120.124353,38.689843 L -120.123936,38.68837 L -120.123512,38.687132 L -120.123134,38.686564 L -120.122379,38.685799 L -120.121704,38.685074 L -120.120919,38.683907 L -120.120612,38.683168 L -120.120517,38.682933 L -120.119591,38.682237 L -120.118166,38.681301 L -120.117397,38.680658 L -120.117184,38.680363 L -120.117079,38.679864 L -120.117054,38.679809 L -120.117153,38.679278 L -120.11793,38.67745 L -120.118552,38.676044 L -120.119257,38.674756 L -120.120008,38.673725 L -120.120737,38.672645 L -120.121388,38.671864 L -120.121456,38.671796 L -120.121882,38.671188 L -120.122142,38.670621 L -120.122001,38.669835 L -120.121986,38.669379 L -120.12204,38.669164 L -120.122387,38.668767 L -120.122656,38.668527 L -120.122761,38.668206 L -120.12281,38.667892 L -120.122841,38.66763 L -120.123026,38.667255 L -120.12332,38.666787 L -120.123842,38.666468 L -120.124387,38.666171 L -120.125244,38.665851 L -120.125648,38.665564 L -120.126074,38.665396 L -120.12607,38.665238 L -120.126067,38.665124 L -120.126393,38.665106 L -120.126907,38.665154 L -120.12793,38.665199 L -120.128517,38.665062 L -120.12886,38.664627 L -120.12939,38.663526 L -120.129582,38.662917 L -120.130583,38.661739 L -120.131558,38.661041 L -120.132234,38.660308 L -120.132454,38.659862 L -120.132937,38.65855 L -120.133344,38.657618 L -120.134254,38.655987 L -120.134876,38.655045 L -120.135105,38.654526 L -120.134948,38.653656 L -120.134476,38.652991 L -120.133574,38.65237 L -120.132426,38.651768 L -120.131919,38.651483 L -120.131535,38.651212 L -120.131304,38.650892 L -120.131285,38.650311 L -120.131401,38.649817 L -120.131719,38.649064 L -120.132237,38.648546 L -120.133526,38.647152 L -120.133838,38.646469 L -120.134131,38.646222 L -120.134898,38.645749 L -120.135701,38.644567 L -120.1359,38.643481 L -120.136265,38.642457 L -120.137006,38.641218 L -120.137612,38.640837 L -120.139099,38.639722 L -120.139122,38.639633 L -120.139648,38.639061 L -120.140083,38.638374 L -120.140495,38.638168 L -120.141685,38.638054 L -120.141861,38.638123 L -120.144051,38.639038 L -120.144371,38.639221 L -120.144836,38.639679 L -120.145653,38.639748 L -120.14648,38.639542 L -120.14711,38.639385 L -120.147636,38.638699 L -120.148125,38.638373 L -120.148875,38.637949 L -120.149682,38.637717 L -120.150842,38.637724 L -120.152148,38.638197 L -120.1525,38.637993 L -120.152657,38.637836 L -120.152971,38.636794 L -120.153218,38.636344 L -120.153464,38.635895 L -120.15364,38.635643 L -120.154172,38.635279 L -120.156887,38.63402 L -120.1574,38.633728 L -120.158103,38.633234 L -120.158799,38.633154 L -120.160294,38.633043 L -120.160409,38.633047 L -120.162982,38.633138 L -120.165277,38.633093 L -120.16643,38.632872 L -120.166963,38.632847 L -120.168319,38.6327 L -120.170103,38.632467 L -120.17165,38.632455 L -120.174018,38.632706 L -120.175438,38.63311 L -120.176636,38.633502 L -120.176828,38.633563 L -120.178402,38.633826 L -120.179978,38.633505 L -120.181384,38.633077 L -120.183037,38.632384 L -120.185621,38.631591 L -120.187103,38.631345 L -120.188399,38.63124 L -120.189728,38.631233 L -120.190783,38.631135 L -120.19132,38.631152 L -120.19498,38.629945 L -120.19584,38.629463 L -120.197104,38.629199 L -120.197873,38.627951 L -120.197843,38.62758 L -120.197434,38.626359 L -120.197676,38.625805 L -120.199843,38.62556 L -120.200881,38.62526 L -120.201129,38.62491 L -120.201819,38.624675 L -120.202578,38.62465 L -120.202876,38.624706 L -120.203093,38.62491 L -120.203436,38.625181 L -120.203725,38.625985 L -120.204006,38.62691 L -120.204313,38.627496 L -120.204748,38.627734 L -120.205242,38.627898 L -120.206241,38.628105 L -120.207269,38.628215 L -120.208729,38.6285 L -120.21019,38.628983 L -120.210335,38.62896 L -120.211914,38.629234 L -120.212669,38.629303 L -120.212784,38.629372 L -120.214012,38.62912 L -120.214478,38.628891 L -120.214828,38.628616 L -120.214767,38.62841 L -120.213928,38.627815 L -120.214241,38.627243 L -120.214569,38.626465 L -120.214417,38.62491 L -120.214058,38.623272 L -120.21418,38.622791 L -120.214615,38.621944 L -120.214935,38.621693 L -120.215546,38.621418 L -120.217178,38.621143 L -120.21788,38.620914 L -120.218468,38.620617 L -120.218842,38.620182 L -120.218864,38.620137 L -120.219017,38.619839 L -120.219284,38.619335 L -120.219398,38.618694 L -120.219688,38.618076 L -120.220535,38.617256 L -120.220825,38.616817 L -120.221085,38.615929 L -120.221115,38.614326 L -120.221321,38.612701 L -120.22187,38.610939 L -120.222626,38.609638 L -120.223068,38.608608 L -120.223068,38.607189 L -120.222542,38.605107 L -120.22245,38.605061 L -120.222336,38.60442 L -120.222305,38.602936 L -120.22245,38.60099 L -120.222832,38.598106 L -120.223175,38.597103 L -120.223793,38.59655 L -120.22522,38.596027 L -120.227081,38.595886 L -120.227959,38.595703 L -120.228569,38.595337 L -120.228743,38.595175 L -120.229095,38.594833 L -120.2295,38.594151 L -120.229645,38.593258 L -120.2295,38.591427 L -120.229881,38.590374 L -120.230606,38.589115 L -120.231537,38.587925 L -120.231537,38.587811 L -120.232323,38.587078 L -120.232964,38.586716 L -120.23381,38.586483 L -120.23597,38.586185 L -120.238358,38.585522 L -120.23941,38.585567 L -120.239662,38.585632 L -120.240786,38.585925 L -120.241333,38.586071 L -120.242027,38.586163 L -120.243225,38.586025 L -120.244621,38.585705 L -120.247131,38.584946 L -120.250694,38.583984 L -120.251031,38.583731 L -120.251999,38.582588 L -120.252151,38.582401 L -120.252357,38.582287 L -120.252533,38.582081 L -120.253265,38.581581 L -120.259384,38.578152 L -120.260231,38.577465 L -120.260666,38.57687 L -120.260933,38.575889 L -120.261368,38.574654 L -120.261925,38.573875 L -120.263527,38.572113 L -120.263939,38.571545 L -120.264198,38.570995 L -120.264198,38.570377 L -120.264084,38.569736 L -120.264084,38.568569 L -120.26432,38.568066 L -120.266006,38.566147 L -120.266533,38.565002 L -120.266533,38.564339 L -120.265541,38.562576 L -120.265549,38.561752 L -120.265747,38.561386 L -120.266014,38.561089 L -120.266388,38.560951 L -120.267525,38.560909 L -120.268578,38.561047 L -120.269539,38.561047 L -120.270065,38.560863 L -120.272537,38.559353 L -120.273445,38.55901 L -120.274055,38.558849 L -120.275307,38.558853 L -120.27555,38.558895 L -120.277985,38.559311 L -120.278915,38.559288 L -120.280495,38.559082 L -120.281425,38.558762 L -120.281874,38.558545 L -120.282387,38.558304 L -120.283493,38.557552 L -120.284134,38.557251 L -120.284256,38.55698 L -120.285095,38.556431 L -120.285912,38.556179 L -120.289383,38.556156 L -120.289528,38.556271 L -120.296837,38.556248 L -120.297623,38.556091 L -120.298233,38.555702 L -120.298698,38.555199 L -120.298935,38.554558 L -120.298935,38.553047 L -120.299141,38.552658 L -120.299141,38.552475 L -120.300247,38.550964 L -120.300424,38.550784 L -120.300478,38.550718 L -120.301117,38.550049 L -120.302086,38.549412 L -120.302841,38.549206 L -120.304817,38.54884 L -120.306389,38.547554 L -120.310997,38.545956 L -120.312218,38.545475 L -120.314781,38.544857 L -120.315659,38.544449 L -120.317055,38.543533 L -120.317785,38.543351 L -120.318626,38.543304 L -120.321457,38.543919 L -120.32399,38.544262 L -120.325562,38.544308 L -120.325851,38.544239 L -120.327423,38.544174 L -120.328995,38.544331 L -120.330978,38.54472 L -120.334328,38.545086 L -120.336777,38.545612 L -120.337646,38.545567 L -120.338348,38.545292 L -120.338959,38.544674 L -120.339073,38.544376 L -120.339424,38.544216 L -120.339714,38.543941 L -120.340942,38.543438 L -120.342545,38.543163 L -120.343239,38.542866 L -120.344315,38.542019 L -120.344933,38.541698 L -120.345306,38.54163 L -120.346039,38.541653 L -120.346504,38.541813 L -120.347023,38.542179 L -120.347435,38.542843 L -120.348076,38.543297 L -120.349915,38.544098 L -120.350609,38.544739 L -120.351166,38.545471 L -120.351723,38.545998 L -120.352386,38.546227 L -120.353554,38.54641 L -120.355331,38.547207 L -120.355713,38.547253 L -120.357018,38.547115 L -120.358232,38.546608 L -120.360954,38.545467 L -120.363075,38.544666 L -120.363835,38.544552 L -120.3657,38.54446 L -120.367188,38.544456 L -120.369019,38.544571 L -120.370857,38.544823 L -120.37307,38.545097 L -120.37603,38.544899 L -120.37841,38.544659 L -120.38028,38.543652 L -120.38089,38.543125 L -120.381325,38.542461 L -120.382027,38.540062 L -120.382378,38.539261 L -120.38279,38.538986 L -120.3834,38.53878 L -120.383545,38.538643 L -120.38456,38.538643 L -120.385323,38.538826 L -120.386162,38.539307 L -120.386948,38.53997 L -120.387856,38.540314 L -120.388641,38.540451 L -120.389221,38.540363 L -120.390503,38.539654 L -120.390999,38.539494 L -120.392197,38.539402 L -120.393822,38.539356 L -120.396011,38.539196 L -120.396477,38.539059 L -120.397491,38.538353 L -120.39846,38.537483 L -120.399101,38.537231 L -120.40242,38.537621 L -120.402824,38.537483 L -120.403641,38.536888 L -120.40609,38.535496 L -120.407578,38.534306 L -120.40918,38.533138 L -120.41066,38.532612 L -120.41227,38.531517 L -120.412964,38.531174 L -120.41375,38.530991 L -120.417336,38.530991 L -120.418701,38.530693 L -120.421089,38.530693 L -120.422462,38.53051 L -120.424294,38.530418 L -120.425026,38.530304 L -120.4254,38.530029 L -120.426216,38.529255 L -120.426796,38.52898 L -120.427406,38.528889 L -120.429039,38.52914 L -120.429916,38.529049 L -120.430412,38.52882 L -120.432564,38.527149 L -120.432999,38.52692 L -120.43309,38.526783 L -120.433846,38.526669 L -120.434982,38.52692 L -120.436554,38.527493 L -120.437721,38.527882 L -120.438911,38.528957 L -120.439028,38.528955 L -120.440138,38.528865 L -120.440355,38.528855 L -120.441057,38.528984 L -120.442619,38.529178 L -120.445526,38.528637 L -120.449836,38.528499 L -120.450761,38.52807 L -120.452055,38.527153 L -120.452887,38.526718 L -120.454114,38.525895 L -120.455329,38.525265 L -120.456467,38.524898 L -120.458129,38.524539 L -120.460923,38.524189 L -120.461311,38.524097 L -120.462121,38.524015 L -120.462899,38.523828 L -120.464044,38.52339 L -120.465515,38.522935 L -120.46651,38.522759 L -120.467571,38.522814 L -120.471734,38.521952 L -120.472812,38.521676 L -120.473452,38.521607 L -120.474297,38.521836 L -120.475287,38.521858 L -120.476481,38.52156 L -120.478665,38.521399 L -120.481033,38.521389 L -120.484867,38.521374 L -120.485246,38.521305 L -120.485973,38.521007 L -120.48964,38.518078 L -120.490979,38.517437 L -120.49456,38.517138 L -120.49619,38.516931 L -120.497529,38.516519 L -120.498199,38.516107 L -120.498722,38.515535 L -120.499333,38.514596 L -120.499741,38.514299 L -120.501035,38.514056 L -120.502099,38.513837 L -120.503381,38.513335 L -120.505449,38.512352 L -120.507983,38.512285 L -120.5104,38.511577 L -120.511623,38.511417 L -120.515263,38.511304 L -120.517972,38.511031 L -120.520417,38.511168 L -120.52298,38.510986 L -120.523125,38.510986 L -120.526375,38.510445 L -120.526968,38.510348 L -120.527292,38.510233 L -120.528571,38.509776 L -120.529706,38.509731 L -120.531074,38.510029 L -120.532123,38.510052 L -120.532763,38.509983 L -120.535355,38.509938 L -120.53649,38.509504 L -120.537276,38.50939 L -120.537917,38.509504 L -120.539023,38.51003 L -120.54077,38.510031 L -120.543653,38.50978 L -120.545022,38.510146 L -120.546187,38.510261 L -120.547235,38.51065 L -120.548865,38.510558 L -120.549186,38.510673 L -120.550088,38.511199 L -120.551049,38.51152 L -120.553145,38.511794 L -120.553902,38.511794 L -120.555125,38.511383 L -120.556901,38.511154 L -120.557804,38.51088 L -120.558299,38.510582 L -120.559464,38.510079 L -120.559959,38.509736 L -120.560484,38.509507 L -120.561357,38.509347 L -120.561998,38.509027 L -120.562988,38.508706 L -120.563949,38.508592 L -120.564589,38.50841 L -120.565055,38.508089 L -120.568695,38.506968 L -120.569976,38.506168 L -120.570733,38.50587 L -120.571549,38.505664 L -120.572103,38.505664 L -120.572772,38.505824 L -120.573267,38.505824 L -120.573762,38.505618 L -120.574431,38.504749 L -120.57478,38.504589 L -120.575479,38.504566 L -120.575857,38.504932 L -120.576236,38.505046 L -120.576643,38.505046 L -120.576935,38.504977 L -120.57807,38.504382 L -120.579321,38.503536 L -120.579786,38.503421 L -120.581621,38.503627 L -120.583455,38.503694 L -120.584677,38.5039 L -120.58555,38.5039 L -120.58654,38.503762 L -120.587384,38.503968 L -120.587821,38.504014 L -120.588898,38.503419 L -120.589364,38.50335 L -120.589917,38.503624 L -120.591198,38.503921 L -120.592248,38.504585 L -120.592481,38.504607 L -120.594314,38.503715 L -120.595188,38.503669 L -120.596353,38.504103 L -120.596849,38.504126 L -120.598391,38.503531 L -120.600284,38.503553 L -120.601914,38.503964 L -120.602409,38.50401 L -120.605087,38.503025 L -120.606077,38.502453 L -120.606717,38.50243 L -120.607002,38.50252 L -120.607795,38.502772 L -120.609513,38.502932 L -120.610008,38.503115 L -120.61126,38.504281 L -120.612163,38.504624 L -120.612745,38.504509 L -120.613124,38.50428 L -120.613764,38.503342 L -120.613996,38.503227 L -120.614491,38.503136 L -120.615831,38.503295 L -120.618247,38.503317 L -120.618509,38.5035 L -120.619267,38.503728 L -120.620169,38.503659 L -120.620606,38.503796 L -120.621247,38.504345 L -120.622062,38.504436 L -120.623627,38.50389 L -120.624101,38.503726 L -120.626041,38.503586 L -120.626761,38.503516 L -120.627635,38.50315 L -120.628101,38.503128 L -120.629964,38.503609 L -120.630429,38.503815 L -120.630924,38.504296 L -120.632117,38.504777 L -120.633281,38.505578 L -120.633892,38.505853 L -120.635959,38.506152 L -120.636949,38.506541 L -120.637677,38.506953 L -120.63855,38.507571 L -120.641257,38.508007 L -120.642975,38.508511 L -120.64574,38.50961 L -120.648244,38.510206 L -120.650515,38.510001 L -120.652902,38.510986 L -120.653484,38.511466 L -120.654125,38.511833 L -120.655348,38.512153 L -120.657502,38.513115 L -120.658433,38.513892 L -120.658608,38.514167 L -120.658753,38.515311 L -120.65887,38.515448 L -120.659656,38.515723 L -120.661693,38.515906 L -120.663178,38.5165 L -120.664721,38.516844 L -120.664864,38.516865 L -120.665974,38.517029 L -120.66877,38.517213 L -120.669527,38.517373 L -120.670284,38.517327 L -120.671129,38.517144 L -120.67209,38.517259 L -120.673458,38.517717 L -120.674157,38.517808 L -120.676603,38.517694 L -120.677002,38.517784 L -120.677215,38.517832 L -120.677506,38.518152 L -120.677768,38.520005 L -120.678204,38.520875 L -120.678699,38.521653 L -120.678961,38.522293 L -120.679456,38.523003 L -120.68065,38.524055 L -120.680912,38.524581 L -120.681,38.524718 L -120.682106,38.525336 L -120.682572,38.525771 L -120.682979,38.526275 L -120.684464,38.52687 L -120.685192,38.527305 L -120.686188,38.527653 L -120.687289,38.528039 L -120.689619,38.527924 L -120.690522,38.527741 L -120.690783,38.527856 L -120.690754,38.528222 L -120.690551,38.528428 L -120.690551,38.528771 L -120.690929,38.528977 L -120.691396,38.528839 L -120.691891,38.528519 L -120.692153,38.528542 L -120.692676,38.529366 L -120.692998,38.529617 L -120.694366,38.529892 L -120.69521,38.530304 L -120.696667,38.531448 L -120.697134,38.531745 L -120.698648,38.531562 L -120.699842,38.532111 L -120.700716,38.532797 L -120.701648,38.534033 L -120.701927,38.534203 L -120.702057,38.534285 L -120.702785,38.534469 L -120.70328,38.534811 L -120.703834,38.534971 L -120.704038,38.535315 L -120.704096,38.535704 L -120.7043,38.536001 L -120.70462,38.536115 L -120.705553,38.536024 L -120.705844,38.535909 L -120.706019,38.535407 L -120.706223,38.535108 L -120.706543,38.534971 L -120.706805,38.535016 L -120.707913,38.535909 L -120.709205,38.536476 L -120.710289,38.537106 L -120.710676,38.537311 L -120.710858,38.537344 L -120.712921,38.538936 L -120.713329,38.539112 L -120.714423,38.53931 L -120.715041,38.539903 L -120.715308,38.53999 L -120.716023,38.540089 L -120.716331,38.540254 L -120.716949,38.541187 L -120.718226,38.541626 L -120.718858,38.542044 L -120.720037,38.543866 L -120.721581,38.5457 L -120.722409,38.546973 L -120.722454,38.54715 L -120.723698,38.547268 L -120.724571,38.547272 L -120.724848,38.547255 L -120.726042,38.547114 L -120.727025,38.546792 L -120.727414,38.546816 L -120.728076,38.547021 L -120.730247,38.548067 L -120.730536,38.548129 L -120.730913,38.547996 L -120.731673,38.547426 L -120.73264,38.547448 L -120.733257,38.54722 L -120.733498,38.547225 L -120.734051,38.547042 L -120.734632,38.546446 L -120.734807,38.546057 L -120.735273,38.545668 L -120.73635,38.545575 L -120.736729,38.545666 L -120.737021,38.545917 L -120.737328,38.546379 L -120.737372,38.546445 L -120.738101,38.546832 L -120.738456,38.547181 L -120.738658,38.547635 L -120.738658,38.548044 L -120.738803,38.548184 L -120.73927,38.548298 L -120.741138,38.548205 L -120.742039,38.548502 L -120.743695,38.548345 L -120.744918,38.548137 L -120.745733,38.548132 L -120.746016,38.548184 L -120.746601,38.548258 L -120.747381,38.548366 L -120.747576,38.549087 L -120.747747,38.549392 L -120.748538,38.549659 L -120.748656,38.549793 L -120.748627,38.551022 L -120.748213,38.551312 L -120.74754,38.551603 L -120.74716,38.55178 L -120.74654,38.55238 L -120.746592,38.552634 L -120.746918,38.552905 L -120.747413,38.553078 L -120.748441,38.553439 L -120.749534,38.553275 L -120.750448,38.552955 L -120.751043,38.552569 L -120.751491,38.551737 L -120.751988,38.551553 L -120.754232,38.551128 L -120.754869,38.551257 L -120.756003,38.551941 L -120.756773,38.552761 L -120.758692,38.554229 L -120.759654,38.554698 L -120.760239,38.554842 L -120.76106,38.554803 L -120.76253,38.554265 L -120.763416,38.553514 L -120.764034,38.553314 L -120.764444,38.553248 L -120.765717,38.553526 L -120.765877,38.553559 L -120.766576,38.553765 L -120.767101,38.553674 L -120.767684,38.553331 L -120.768733,38.552554 L -120.769316,38.552645 L -120.770277,38.553218 L -120.770772,38.553355 L -120.771763,38.553263 L -120.772287,38.553309 L -120.77389,38.55395 L -120.774619,38.553928 L -120.775173,38.553745 L -120.775522,38.553722 L -120.77794,38.554295 L -120.778115,38.554387 L -120.778785,38.554364 L -120.779281,38.554181 L -120.780301,38.553289 L -120.781612,38.552374 L -120.781758,38.551985 L -120.782428,38.551299 L -120.783069,38.550956 L -120.783564,38.550865 L -120.784176,38.550888 L -120.785516,38.551322 L -120.786652,38.552329 L -120.787438,38.55329 L -120.788341,38.553999 L -120.789099,38.55432 L -120.78974,38.55448 L -120.792362,38.554687 L -120.792653,38.554778 L -120.793294,38.555327 L -120.793352,38.55567 L -120.793206,38.556974 L -120.793614,38.557363 L -120.794197,38.557546 L -120.795566,38.557524 L -120.796234,38.55743 L -120.796713,38.557363 L -120.797338,38.55713 L -120.797843,38.556499 L -120.7982,38.555892 L -120.798586,38.555847 L -120.799121,38.556034 L -120.799196517,38.556034 L -120.911611151,38.7830674753 L -120.92522227,39.0983917332 z\" /><path fill-rule=\"evenodd\" fill=\"#66cc99\" stroke=\"#555555\" stroke-width=\"0.0365522307406\" opacity=\"0.6\" d=\"M -121.545095316,38.5576333161 L -121.531484197,38.5576333161 L -121.533752717,38.516516394 L -121.548214531,38.5173670889 L -121.558706435,38.5065916197 L -121.569481905,38.5063080547 L -121.557005046,38.5233219535 L -121.545095316,38.5576333161 z\" /><path fill-rule=\"evenodd\" fill=\"#66cc99\" stroke=\"#555555\" stroke-width=\"0.0365522307406\" opacity=\"0.6\" d=\"M -121.534603412,38.645254895 L -121.522977248,38.6356136856 L -121.534603412,38.6350465557 L -121.534603412,38.645254895 z\" /><path fill-rule=\"evenodd\" fill=\"#66cc99\" stroke=\"#555555\" stroke-width=\"0.0365522307406\" opacity=\"0.6\" d=\"M -121.49291936,38.4070603117 L -121.497598182,38.4115973514 L -121.497314617,38.4182611284 L -121.490367275,38.4159926086 L -121.49291936,38.4070603117 z\" /><path fill-rule=\"evenodd\" fill=\"#66cc99\" stroke=\"#555555\" stroke-width=\"0.0365522307406\" opacity=\"0.6\" d=\"M -121.484979541,38.3557350503 L -121.477890416,38.3289381597 L -121.480867848,38.3278038998 L -121.487389843,38.3561603978 L -121.484979541,38.3557350503 z\" /><path fill-rule=\"evenodd\" fill=\"#66cc99\" stroke=\"#555555\" stroke-width=\"0.0365522307406\" opacity=\"0.6\" d=\"M -121.33745486,38.6772977377 L -121.29307694,38.7252911106 L -121.276063042,38.7170677262 L -121.327955433,38.6764470428 L -121.33745486,38.6772977377 z\" /><path fill-rule=\"evenodd\" fill=\"#66cc99\" stroke=\"#555555\" stroke-width=\"0.0365522307406\" opacity=\"0.6\" d=\"M -121.240262963,38.7815787592 L -121.215309245,38.8012865253 L -121.149805734,38.7594606907 L -121.247635652,38.7495359164 L -121.240262963,38.7815787592 z\" /><path fill-rule=\"evenodd\" fill=\"#66cc99\" stroke=\"#555555\" stroke-width=\"0.0365522307406\" opacity=\"0.6\" d=\"M -121.136761745,38.8187257715 L -121.129672621,38.8398513626 L -121.115636154,38.8163154692 L -121.136761745,38.8187257715 z\" /><path fill-rule=\"evenodd\" fill=\"#66cc99\" stroke=\"#555555\" stroke-width=\"0.0365522307406\" opacity=\"0.6\" d=\"M -121.093305412,38.8096516922 L -121.101812361,38.8183004241 L -121.095290367,38.8459480096 L -121.068918824,38.8456644447 L -121.060128309,38.848074747 L -121.062963959,38.8572906088 L -121.054882357,38.8574323913 L -121.054882357,38.8455226622 L -121.075157253,38.8312026307 L -121.080970335,38.8139051669 L -121.093305412,38.8096516922 z\" /><path fill-rule=\"evenodd\" fill=\"#66cc99\" stroke=\"#555555\" stroke-width=\"0.0365522307406\" opacity=\"0.6\" d=\"M -121.059702962,38.9172646021 L -121.05105423,38.9165556897 L -121.053606315,38.905071308 L -121.049494622,38.9181152971 L -121.036875981,38.9157049947 L -121.04708432,38.8967061411 L -121.040136978,38.8860724543 L -121.058994049,38.883095022 L -121.049211057,38.8710435104 L -121.063105741,38.8669318182 L -121.069627736,38.8615440835 L -121.083097073,38.8676407306 L -121.082813508,38.8808265022 L -121.082104595,38.8995417909 L -121.073455863,38.9162721247 L -121.064098219,38.9239283792 L -121.054173445,38.9243537266 L -121.059702962,38.9172646021 z\" /></g></g></svg>"
      ],
      "text/plain": [
       "<shapely.geometry.multipolygon.MultiPolygon at 0x7fca95b4c9d0>"
      ]
     },
     "execution_count": 16,
     "metadata": {},
     "output_type": "execute_result"
    }
   ],
   "source": [
    "wild_layer"
   ]
  },
  {
   "cell_type": "code",
   "execution_count": 17,
   "metadata": {
    "collapsed": true
   },
   "outputs": [],
   "source": [
    "school_layer = geom.MultiPoint([pt for pt in schools['shapes']])"
   ]
  },
  {
   "cell_type": "code",
   "execution_count": 18,
   "metadata": {
    "collapsed": false
   },
   "outputs": [
    {
     "data": {
      "image/svg+xml": [
       "<svg xmlns=\"http://www.w3.org/2000/svg\" xmlns:xlink=\"http://www.w3.org/1999/xlink\" width=\"100.0\" height=\"100.0\" viewBox=\"-121.853058227 38.2231570795 1.73444788597 0.904311406732\" preserveAspectRatio=\"xMinYMin meet\"><g transform=\"matrix(1,0,0,-1,0,77.3506255657)\"><g><circle cx=\"-121.46328682\" cy=\"38.5707481965\" r=\"0.0520334365791\" stroke=\"#555555\" stroke-width=\"0.0173444788597\" fill=\"#66cc99\" opacity=\"0.6\" /><circle cx=\"-121.486539148\" cy=\"38.5474958681\" r=\"0.0520334365791\" stroke=\"#555555\" stroke-width=\"0.0173444788597\" fill=\"#66cc99\" opacity=\"0.6\" /><circle cx=\"-121.422169897\" cy=\"38.5545849926\" r=\"0.0520334365791\" stroke=\"#555555\" stroke-width=\"0.0173444788597\" fill=\"#66cc99\" opacity=\"0.6\" /><circle cx=\"-121.474629419\" cy=\"38.5395560486\" r=\"0.0520334365791\" stroke=\"#555555\" stroke-width=\"0.0173444788597\" fill=\"#66cc99\" opacity=\"0.6\" /><circle cx=\"-121.452794915\" cy=\"38.5327504891\" r=\"0.0520334365791\" stroke=\"#555555\" stroke-width=\"0.0173444788597\" fill=\"#66cc99\" opacity=\"0.6\" /><circle cx=\"-121.52538755\" cy=\"38.576986626\" r=\"0.0520334365791\" stroke=\"#555555\" stroke-width=\"0.0173444788597\" fill=\"#66cc99\" opacity=\"0.6\" /><circle cx=\"-121.448541441\" cy=\"38.6419230065\" r=\"0.0520334365791\" stroke=\"#555555\" stroke-width=\"0.0173444788597\" fill=\"#66cc99\" opacity=\"0.6\" /><circle cx=\"-121.428124762\" cy=\"38.6371024018\" r=\"0.0520334365791\" stroke=\"#555555\" stroke-width=\"0.0173444788597\" fill=\"#66cc99\" opacity=\"0.6\" /><circle cx=\"-121.368576116\" cy=\"38.6362517069\" r=\"0.0520334365791\" stroke=\"#555555\" stroke-width=\"0.0173444788597\" fill=\"#66cc99\" opacity=\"0.6\" /><circle cx=\"-121.481434978\" cy=\"38.5250942347\" r=\"0.0520334365791\" stroke=\"#555555\" stroke-width=\"0.0173444788597\" fill=\"#66cc99\" opacity=\"0.6\" /><circle cx=\"-121.425289112\" cy=\"38.5287805794\" r=\"0.0520334365791\" stroke=\"#555555\" stroke-width=\"0.0173444788597\" fill=\"#66cc99\" opacity=\"0.6\" /><circle cx=\"-121.527939635\" cy=\"38.4987226915\" r=\"0.0520334365791\" stroke=\"#555555\" stroke-width=\"0.0173444788597\" fill=\"#66cc99\" opacity=\"0.6\" /><circle cx=\"-121.432945367\" cy=\"38.4995733864\" r=\"0.0520334365791\" stroke=\"#555555\" stroke-width=\"0.0173444788597\" fill=\"#66cc99\" opacity=\"0.6\" /><circle cx=\"-121.387291405\" cy=\"38.4831266176\" r=\"0.0520334365791\" stroke=\"#555555\" stroke-width=\"0.0173444788597\" fill=\"#66cc99\" opacity=\"0.6\" /><circle cx=\"-121.413946513\" cy=\"38.4666798488\" r=\"0.0520334365791\" stroke=\"#555555\" stroke-width=\"0.0173444788597\" fill=\"#66cc99\" opacity=\"0.6\" /><circle cx=\"-121.434363192\" cy=\"38.4814252277\" r=\"0.0520334365791\" stroke=\"#555555\" stroke-width=\"0.0173444788597\" fill=\"#66cc99\" opacity=\"0.6\" /><circle cx=\"-121.406006694\" cy=\"38.4428603904\" r=\"0.0520334365791\" stroke=\"#555555\" stroke-width=\"0.0173444788597\" fill=\"#66cc99\" opacity=\"0.6\" /><circle cx=\"-121.193332959\" cy=\"38.7791684568\" r=\"0.0520334365791\" stroke=\"#555555\" stroke-width=\"0.0173444788597\" fill=\"#66cc99\" opacity=\"0.6\" /><circle cx=\"-121.204675558\" cy=\"38.8126291245\" r=\"0.0520334365791\" stroke=\"#555555\" stroke-width=\"0.0173444788597\" fill=\"#66cc99\" opacity=\"0.6\" /><circle cx=\"-121.115636154\" cy=\"38.8415527524\" r=\"0.0520334365791\" stroke=\"#555555\" stroke-width=\"0.0173444788597\" fill=\"#66cc99\" opacity=\"0.6\" /><circle cx=\"-121.343055268\" cy=\"38.706008692\" r=\"0.0520334365791\" stroke=\"#555555\" stroke-width=\"0.0173444788597\" fill=\"#66cc99\" opacity=\"0.6\" /><circle cx=\"-121.382754365\" cy=\"38.6782193239\" r=\"0.0520334365791\" stroke=\"#555555\" stroke-width=\"0.0173444788597\" fill=\"#66cc99\" opacity=\"0.6\" /><circle cx=\"-121.367867204\" cy=\"38.6945952015\" r=\"0.0520334365791\" stroke=\"#555555\" stroke-width=\"0.0173444788597\" fill=\"#66cc99\" opacity=\"0.6\" /><circle cx=\"-121.757060139\" cy=\"38.6653880086\" r=\"0.0520334365791\" stroke=\"#555555\" stroke-width=\"0.0173444788597\" fill=\"#66cc99\" opacity=\"0.6\" /><circle cx=\"-121.788819417\" cy=\"38.6778648677\" r=\"0.0520334365791\" stroke=\"#555555\" stroke-width=\"0.0173444788597\" fill=\"#66cc99\" opacity=\"0.6\" /><circle cx=\"-121.780596032\" cy=\"38.544872892\" r=\"0.0520334365791\" stroke=\"#555555\" stroke-width=\"0.0173444788597\" fill=\"#66cc99\" opacity=\"0.6\" /><circle cx=\"-121.778043948\" cy=\"38.5635881807\" r=\"0.0520334365791\" stroke=\"#555555\" stroke-width=\"0.0173444788597\" fill=\"#66cc99\" opacity=\"0.6\" /><circle cx=\"-121.699212883\" cy=\"38.5607525309\" r=\"0.0520334365791\" stroke=\"#555555\" stroke-width=\"0.0173444788597\" fill=\"#66cc99\" opacity=\"0.6\" /><circle cx=\"-121.307184298\" cy=\"38.2873958901\" r=\"0.0520334365791\" stroke=\"#555555\" stroke-width=\"0.0173444788597\" fill=\"#66cc99\" opacity=\"0.6\" /><circle cx=\"-121.295558134\" cy=\"38.2899479749\" r=\"0.0520334365791\" stroke=\"#555555\" stroke-width=\"0.0173444788597\" fill=\"#66cc99\" opacity=\"0.6\" /><circle cx=\"-120.554886406\" cy=\"38.9611462828\" r=\"0.0520334365791\" stroke=\"#555555\" stroke-width=\"0.0173444788597\" fill=\"#66cc99\" opacity=\"0.6\" /><circle cx=\"-120.182849152\" cy=\"39.0632296756\" r=\"0.0520334365791\" stroke=\"#555555\" stroke-width=\"0.0173444788597\" fill=\"#66cc99\" opacity=\"0.6\" /><circle cx=\"-120.904238461\" cy=\"38.972488882\" r=\"0.0520334365791\" stroke=\"#555555\" stroke-width=\"0.0173444788597\" fill=\"#66cc99\" opacity=\"0.6\" /><circle cx=\"-120.963219977\" cy=\"38.9191786657\" r=\"0.0520334365791\" stroke=\"#555555\" stroke-width=\"0.0173444788597\" fill=\"#66cc99\" opacity=\"0.6\" /><circle cx=\"-120.949608858\" cy=\"38.8817480884\" r=\"0.0520334365791\" stroke=\"#555555\" stroke-width=\"0.0173444788597\" fill=\"#66cc99\" opacity=\"0.6\" /><circle cx=\"-121.010858894\" cy=\"38.8738082689\" r=\"0.0520334365791\" stroke=\"#555555\" stroke-width=\"0.0173444788597\" fill=\"#66cc99\" opacity=\"0.6\" /></g></g></svg>"
      ],
      "text/plain": [
       "<shapely.geometry.multipoint.MultiPoint at 0x7fca95b41990>"
      ]
     },
     "execution_count": 18,
     "metadata": {},
     "output_type": "execute_result"
    }
   ],
   "source": [
    "school_layer"
   ]
  },
  {
   "cell_type": "code",
   "execution_count": 19,
   "metadata": {
    "collapsed": false
   },
   "outputs": [],
   "source": [
    "wild_schools = school_layer.intersection(wild_layer)"
   ]
  },
  {
   "cell_type": "code",
   "execution_count": 20,
   "metadata": {
    "collapsed": false
   },
   "outputs": [
    {
     "data": {
      "image/svg+xml": [
       "<svg xmlns=\"http://www.w3.org/2000/svg\" xmlns:xlink=\"http://www.w3.org/1999/xlink\" width=\"100.0\" height=\"100.0\" viewBox=\"-121.233752311 38.7387491046 1.09132251111 0.36489992334\" preserveAspectRatio=\"xMinYMin meet\"><g transform=\"matrix(1,0,0,-1,0,77.8423981325)\"><g><circle cx=\"-121.193332959\" cy=\"38.7791684568\" r=\"0.0327396753332\" stroke=\"#555555\" stroke-width=\"0.0109132251111\" fill=\"#66cc99\" opacity=\"0.6\" /><circle cx=\"-120.904238461\" cy=\"38.972488882\" r=\"0.0327396753332\" stroke=\"#555555\" stroke-width=\"0.0109132251111\" fill=\"#66cc99\" opacity=\"0.6\" /><circle cx=\"-120.554886406\" cy=\"38.9611462828\" r=\"0.0327396753332\" stroke=\"#555555\" stroke-width=\"0.0109132251111\" fill=\"#66cc99\" opacity=\"0.6\" /><circle cx=\"-120.182849152\" cy=\"39.0632296756\" r=\"0.0327396753332\" stroke=\"#555555\" stroke-width=\"0.0109132251111\" fill=\"#66cc99\" opacity=\"0.6\" /></g></g></svg>"
      ],
      "text/plain": [
       "<shapely.geometry.multipoint.MultiPoint at 0x7fca95b41350>"
      ]
     },
     "execution_count": 20,
     "metadata": {},
     "output_type": "execute_result"
    }
   ],
   "source": [
    "wild_schools"
   ]
  },
  {
   "cell_type": "markdown",
   "metadata": {},
   "source": [
    "This works alright if we're only concerned about the shape. But, we have these attached pieces of data in the `pandas` dataframe! So, doing it this way, while it makes sense, would mean you'd have to link everything back to the data at the end. That's not something I want to deal with. \n",
    "\n",
    "Instead, we've learned that doing different kinds of filtering operations on `pandas` dataframes is fairly easy. So, if we wanted to use the `pandas` dataframe filters to do this, we could. To make it, we would iterate through the schools, then check if that school intersects any wild lands."
   ]
  },
  {
   "cell_type": "code",
   "execution_count": 21,
   "metadata": {
    "collapsed": true
   },
   "outputs": [],
   "source": [
    "filt = [False] * len(schools)\n",
    "for school, s_idx in zip(schools['shapes'], schools.index):\n",
    "    for wild in wilds['shapes']:\n",
    "        filt[s_idx] = filt[s_idx] or wild.contains(school)"
   ]
  },
  {
   "cell_type": "code",
   "execution_count": 22,
   "metadata": {
    "collapsed": false
   },
   "outputs": [
    {
     "data": {
      "text/html": [
       "<div style=\"max-height:1000px;max-width:1500px;overflow:auto;\">\n",
       "<table border=\"1\" class=\"dataframe\">\n",
       "  <thead>\n",
       "    <tr style=\"text-align: right;\">\n",
       "      <th></th>\n",
       "      <th>id</th>\n",
       "      <th>name</th>\n",
       "      <th>shapes</th>\n",
       "    </tr>\n",
       "  </thead>\n",
       "  <tbody>\n",
       "    <tr>\n",
       "      <th>17</th>\n",
       "      <td> 15</td>\n",
       "      <td>       Folsom High School</td>\n",
       "      <td> POINT (-121.1933329585574 38.77916845682399)</td>\n",
       "    </tr>\n",
       "    <tr>\n",
       "      <th>30</th>\n",
       "      <td> 26</td>\n",
       "      <td>    El Dorado High School</td>\n",
       "      <td> POINT (-120.5548864058656 38.96114628280215)</td>\n",
       "    </tr>\n",
       "    <tr>\n",
       "      <th>31</th>\n",
       "      <td> 27</td>\n",
       "      <td>      Truckee High School</td>\n",
       "      <td> POINT (-120.1828491519764 39.06322967563761)</td>\n",
       "    </tr>\n",
       "    <tr>\n",
       "      <th>32</th>\n",
       "      <td> 27</td>\n",
       "      <td> Nevada Union High School</td>\n",
       "      <td>  POINT (-120.9042384613469 38.9724888820061)</td>\n",
       "    </tr>\n",
       "  </tbody>\n",
       "</table>\n",
       "</div>"
      ],
      "text/plain": [
       "    id                      name                                        shapes\n",
       "17  15        Folsom High School  POINT (-121.1933329585574 38.77916845682399)\n",
       "30  26     El Dorado High School  POINT (-120.5548864058656 38.96114628280215)\n",
       "31  27       Truckee High School  POINT (-120.1828491519764 39.06322967563761)\n",
       "32  27  Nevada Union High School   POINT (-120.9042384613469 38.9724888820061)"
      ]
     },
     "execution_count": 22,
     "metadata": {},
     "output_type": "execute_result"
    }
   ],
   "source": [
    "schools[filt]"
   ]
  },
  {
   "cell_type": "markdown",
   "metadata": {},
   "source": [
    "We'll talk about how to output to shapefiles soon. "
   ]
  },
  {
   "cell_type": "markdown",
   "metadata": {},
   "source": [
    "### Problem: Too Much Sacramento"
   ]
  },
  {
   "cell_type": "markdown",
   "metadata": {},
   "source": [
    "Our sacramento dataset is too big. Let's clip the employment regions by the boundaries, and then find schools in the new area. That is, \n",
    "\n",
    "1. Clip `social` by `boundaries`\n",
    "2. Search for `schools` within polygons of `social` like in the above example and store it in a new dataframe, `clipped_social`"
   ]
  },
  {
   "cell_type": "markdown",
   "metadata": {},
   "source": [
    "Before you start, it'll be good to know that you can create a copy of a `pandas` dataframe using the `.copy()` method:"
   ]
  },
  {
   "cell_type": "code",
   "execution_count": 42,
   "metadata": {
    "collapsed": true
   },
   "outputs": [],
   "source": [
    "work = schools.copy()"
   ]
  },
  {
   "cell_type": "markdown",
   "metadata": {},
   "source": [
    "Now, experiment on work to complete the problem."
   ]
  },
  {
   "cell_type": "markdown",
   "metadata": {},
   "source": [
    "### Example: Kinda-Wild Schools"
   ]
  },
  {
   "cell_type": "markdown",
   "metadata": {},
   "source": [
    "So, let's say our vendor acknolwedges that maybe finding schools exactly inside of wilderness areas may not be helpful, and now wants us to look within some space of the wilderness area. Since we're working in raw latitude & longitude, let's just use a .05 degree buffer. "
   ]
  },
  {
   "cell_type": "code",
   "execution_count": 23,
   "metadata": {
    "collapsed": true
   },
   "outputs": [],
   "source": [
    "schools['buffer'] = pandas.Series(s.buffer(.05) for s in schools['shapes'])"
   ]
  },
  {
   "cell_type": "markdown",
   "metadata": {},
   "source": [
    "Then, we're just looking for places where this buffer intersects a wildlands, so the code we wrote above looking beween schools and wildlands could be used! However, now we're not interested in the case when a wildlands *contains* a school, just *intersects* a school buffer!"
   ]
  },
  {
   "cell_type": "code",
   "execution_count": 24,
   "metadata": {
    "collapsed": true
   },
   "outputs": [],
   "source": [
    "filt = [False] * len(schools)\n",
    "for school, s_idx in zip(schools['buffer'], schools.index):\n",
    "    for wild in wilds['shapes']:\n",
    "        filt[s_idx] = filt[s_idx] or wild.intersects(school) #changed"
   ]
  },
  {
   "cell_type": "code",
   "execution_count": 25,
   "metadata": {
    "collapsed": false,
    "scrolled": true
   },
   "outputs": [
    {
     "data": {
      "text/html": [
       "<div style=\"max-height:1000px;max-width:1500px;overflow:auto;\">\n",
       "<table border=\"1\" class=\"dataframe\">\n",
       "  <thead>\n",
       "    <tr style=\"text-align: right;\">\n",
       "      <th></th>\n",
       "      <th>id</th>\n",
       "      <th>name</th>\n",
       "      <th>shapes</th>\n",
       "      <th>buffer</th>\n",
       "    </tr>\n",
       "  </thead>\n",
       "  <tbody>\n",
       "    <tr>\n",
       "      <th>1 </th>\n",
       "      <td>  1</td>\n",
       "      <td>     California Middle School</td>\n",
       "      <td> POINT (-121.4865391479792 38.54749586808352)</td>\n",
       "      <td> POLYGON ((-121.4365391479792 38.54749586808352...</td>\n",
       "    </tr>\n",
       "    <tr>\n",
       "      <th>5 </th>\n",
       "      <td>  5</td>\n",
       "      <td>           Washington Unified</td>\n",
       "      <td> POINT (-121.5253875502527 38.57698662601376)</td>\n",
       "      <td> POLYGON ((-121.4753875502527 38.57698662601376...</td>\n",
       "    </tr>\n",
       "    <tr>\n",
       "      <th>11</th>\n",
       "      <td>  9</td>\n",
       "      <td>  John F. Kennedy High School</td>\n",
       "      <td> POINT (-121.5279396350736 38.49872269150657)</td>\n",
       "      <td> POLYGON ((-121.4779396350736 38.49872269150657...</td>\n",
       "    </tr>\n",
       "    <tr>\n",
       "      <th>17</th>\n",
       "      <td> 15</td>\n",
       "      <td>           Folsom High School</td>\n",
       "      <td> POINT (-121.1933329585574 38.77916845682399)</td>\n",
       "      <td> POLYGON ((-121.1433329585574 38.77916845682399...</td>\n",
       "    </tr>\n",
       "    <tr>\n",
       "      <th>18</th>\n",
       "      <td> 16</td>\n",
       "      <td>   Vista Del Lago High School</td>\n",
       "      <td> POINT (-121.2046755577613 38.81262912447561)</td>\n",
       "      <td> POLYGON ((-121.1546755577613 38.81262912447561...</td>\n",
       "    </tr>\n",
       "    <tr>\n",
       "      <th>19</th>\n",
       "      <td> 16</td>\n",
       "      <td>        Oak Ridge High School</td>\n",
       "      <td> POINT (-121.1156361540104 38.84155275244566)</td>\n",
       "      <td> POLYGON ((-121.0656361540104 38.84155275244566...</td>\n",
       "    </tr>\n",
       "    <tr>\n",
       "      <th>20</th>\n",
       "      <td> 17</td>\n",
       "      <td>       American River College</td>\n",
       "      <td> POINT (-121.3430552680494 38.70600869195858)</td>\n",
       "      <td> POLYGON ((-121.2930552680494 38.70600869195858...</td>\n",
       "    </tr>\n",
       "    <tr>\n",
       "      <th>21</th>\n",
       "      <td> 17</td>\n",
       "      <td>   Twin Rivers Administration</td>\n",
       "      <td> POINT (-121.3827543652632 38.67821932390893)</td>\n",
       "      <td> POLYGON ((-121.3327543652632 38.67821932390893...</td>\n",
       "    </tr>\n",
       "    <tr>\n",
       "      <th>22</th>\n",
       "      <td> 18</td>\n",
       "      <td>        Highlands High School</td>\n",
       "      <td>  POINT (-121.367867203808 38.69459520150961)</td>\n",
       "      <td> POLYGON ((-121.317867203808 38.69459520150961,...</td>\n",
       "    </tr>\n",
       "    <tr>\n",
       "      <th>30</th>\n",
       "      <td> 26</td>\n",
       "      <td>        El Dorado High School</td>\n",
       "      <td> POINT (-120.5548864058656 38.96114628280215)</td>\n",
       "      <td> POLYGON ((-120.5048864058656 38.96114628280215...</td>\n",
       "    </tr>\n",
       "    <tr>\n",
       "      <th>31</th>\n",
       "      <td> 27</td>\n",
       "      <td>          Truckee High School</td>\n",
       "      <td> POINT (-120.1828491519764 39.06322967563761)</td>\n",
       "      <td> POLYGON ((-120.1328491519764 39.06322967563761...</td>\n",
       "    </tr>\n",
       "    <tr>\n",
       "      <th>32</th>\n",
       "      <td> 27</td>\n",
       "      <td>     Nevada Union High School</td>\n",
       "      <td>  POINT (-120.9042384613469 38.9724888820061)</td>\n",
       "      <td> POLYGON ((-120.854238461347 38.9724888820061, ...</td>\n",
       "    </tr>\n",
       "    <tr>\n",
       "      <th>33</th>\n",
       "      <td> 29</td>\n",
       "      <td>         Grass Valley Schools</td>\n",
       "      <td> POINT (-120.9632199772074 38.91917866574758)</td>\n",
       "      <td> POLYGON ((-120.9132199772074 38.91917866574758...</td>\n",
       "    </tr>\n",
       "    <tr>\n",
       "      <th>34</th>\n",
       "      <td> 29</td>\n",
       "      <td> Grass Valley Charter Schools</td>\n",
       "      <td> POINT (-120.9496088581627 38.88174808837458)</td>\n",
       "      <td> POLYGON ((-120.8996088581627 38.88174808837458...</td>\n",
       "    </tr>\n",
       "    <tr>\n",
       "      <th>35</th>\n",
       "      <td> 30</td>\n",
       "      <td>   Silver Springs High School</td>\n",
       "      <td>  POINT (-121.010858893864 38.87380826893182)</td>\n",
       "      <td> POLYGON ((-120.960858893864 38.87380826893182,...</td>\n",
       "    </tr>\n",
       "  </tbody>\n",
       "</table>\n",
       "</div>"
      ],
      "text/plain": [
       "    id                          name  \\\n",
       "1    1      California Middle School   \n",
       "5    5            Washington Unified   \n",
       "11   9   John F. Kennedy High School   \n",
       "17  15            Folsom High School   \n",
       "18  16    Vista Del Lago High School   \n",
       "19  16         Oak Ridge High School   \n",
       "20  17        American River College   \n",
       "21  17    Twin Rivers Administration   \n",
       "22  18         Highlands High School   \n",
       "30  26         El Dorado High School   \n",
       "31  27           Truckee High School   \n",
       "32  27      Nevada Union High School   \n",
       "33  29          Grass Valley Schools   \n",
       "34  29  Grass Valley Charter Schools   \n",
       "35  30    Silver Springs High School   \n",
       "\n",
       "                                          shapes  \\\n",
       "1   POINT (-121.4865391479792 38.54749586808352)   \n",
       "5   POINT (-121.5253875502527 38.57698662601376)   \n",
       "11  POINT (-121.5279396350736 38.49872269150657)   \n",
       "17  POINT (-121.1933329585574 38.77916845682399)   \n",
       "18  POINT (-121.2046755577613 38.81262912447561)   \n",
       "19  POINT (-121.1156361540104 38.84155275244566)   \n",
       "20  POINT (-121.3430552680494 38.70600869195858)   \n",
       "21  POINT (-121.3827543652632 38.67821932390893)   \n",
       "22   POINT (-121.367867203808 38.69459520150961)   \n",
       "30  POINT (-120.5548864058656 38.96114628280215)   \n",
       "31  POINT (-120.1828491519764 39.06322967563761)   \n",
       "32   POINT (-120.9042384613469 38.9724888820061)   \n",
       "33  POINT (-120.9632199772074 38.91917866574758)   \n",
       "34  POINT (-120.9496088581627 38.88174808837458)   \n",
       "35   POINT (-121.010858893864 38.87380826893182)   \n",
       "\n",
       "                                               buffer  \n",
       "1   POLYGON ((-121.4365391479792 38.54749586808352...  \n",
       "5   POLYGON ((-121.4753875502527 38.57698662601376...  \n",
       "11  POLYGON ((-121.4779396350736 38.49872269150657...  \n",
       "17  POLYGON ((-121.1433329585574 38.77916845682399...  \n",
       "18  POLYGON ((-121.1546755577613 38.81262912447561...  \n",
       "19  POLYGON ((-121.0656361540104 38.84155275244566...  \n",
       "20  POLYGON ((-121.2930552680494 38.70600869195858...  \n",
       "21  POLYGON ((-121.3327543652632 38.67821932390893...  \n",
       "22  POLYGON ((-121.317867203808 38.69459520150961,...  \n",
       "30  POLYGON ((-120.5048864058656 38.96114628280215...  \n",
       "31  POLYGON ((-120.1328491519764 39.06322967563761...  \n",
       "32  POLYGON ((-120.854238461347 38.9724888820061, ...  \n",
       "33  POLYGON ((-120.9132199772074 38.91917866574758...  \n",
       "34  POLYGON ((-120.8996088581627 38.88174808837458...  \n",
       "35  POLYGON ((-120.960858893864 38.87380826893182,...  "
      ]
     },
     "execution_count": 25,
     "metadata": {},
     "output_type": "execute_result"
    }
   ],
   "source": [
    "schools[filt]"
   ]
  },
  {
   "cell_type": "markdown",
   "metadata": {},
   "source": [
    "Now, that's much more reasonable!"
   ]
  },
  {
   "cell_type": "markdown",
   "metadata": {},
   "source": [
    "### Output"
   ]
  },
  {
   "cell_type": "markdown",
   "metadata": {},
   "source": [
    "Well, we've learned how to input shapfiles using pysal, export the shapes from pysal to shapely, and do GIS operations. Now, how do we go back?"
   ]
  },
  {
   "cell_type": "markdown",
   "metadata": {},
   "source": [
    "Let's work on the clipped Sacramento data we created in **Problem: Too Much Sacramento**. To write out our data, we'll need to write the shapes to a new shapefile and the dataframe to a new dbf file. We could also just output everything as GeoJSON. First, let's cover making these GeoJSON. "
   ]
  },
  {
   "cell_type": "markdown",
   "metadata": {},
   "source": [
    "A GeoJSON dictionary has three necessary components, `type`, `geometry`, and `properties`: "
   ]
  },
  {
   "cell_type": "raw",
   "metadata": {},
   "source": [
    "{\n",
    "  \"type\": \"Feature\",\n",
    "  \"geometry\": {\n",
    "    \"type\": \"Point\",\n",
    "    \"coordinates\": [125.6, 10.1]\n",
    "  },\n",
    "  \"properties\": {\n",
    "    \"name\": \"Dinagat Islands\"\n",
    "  }\n",
    "}"
   ]
  },
  {
   "cell_type": "markdown",
   "metadata": {},
   "source": [
    "We represent multiple `Features` in a `FeatureCollection`:"
   ]
  },
  {
   "cell_type": "raw",
   "metadata": {},
   "source": [
    "{\"type\":\"FeatureCollection\"\n",
    "    \"features\":[{\n",
    "                \"type\": \"Feature\",\n",
    "                \"geometry\": {\n",
    "                         \"type\": \"Point\",\n",
    "                         \"coordinates\": [125.6, 10.1]\n",
    "                    },\n",
    "                \"properties\": {\n",
    "                         \"name\": \"Dinagat Islands\"\n",
    "                    }\n",
    "                },\n",
    "                {\n",
    "                \"type\":\"Feature\",\n",
    "                ...\n",
    "                ]\n",
    "}"
   ]
  },
  {
   "cell_type": "markdown",
   "metadata": {},
   "source": [
    "If we had the [GeoJSON](https://github.com/frewsxcv/python-geojson) package installed, we could simply build the GeoJSON objects using that package. Instead, we'll build the dictionary raw. "
   ]
  },
  {
   "cell_type": "markdown",
   "metadata": {},
   "source": [
    "So, if we wanted to output our \"schools\" table in geojson, we could do it pretty easily! First, we should probably look at the `.iterrows` method. "
   ]
  },
  {
   "cell_type": "code",
   "execution_count": 26,
   "metadata": {
    "collapsed": false
   },
   "outputs": [
    {
     "name": "stdout",
     "output_type": "stream",
     "text": [
      "Object `clipped_social.iterrows` not found.\n"
     ]
    }
   ],
   "source": [
    "clipped_social.iterrows?"
   ]
  },
  {
   "cell_type": "markdown",
   "metadata": {},
   "source": [
    "So, we need a dictionary with one key-value pair that is `'feature':'FeatureCollection'`, and another key-value pair that is `'features'` and a list of geojson-encoded features. For any single row, we can build the GeoJSON feature simply by following the specification above. But, of course, we need to figure out what to put in the `???`"
   ]
  },
  {
   "cell_type": "raw",
   "metadata": {},
   "source": [
    "feature = {}\n",
    "feature.update({'type':'Feature'})\n",
    "feature.update({'geometry': {'type': ???\n",
    "                            'coordinates': ???}})\n",
    "feature.update({'properties': ???})"
   ]
  },
  {
   "cell_type": "markdown",
   "metadata": {},
   "source": [
    "Then, we would add each of these completed features to the list `features` in some `FeatureCollection`.\n",
    "\n",
    "In the cells below, I build the GeoJSON feature collection by replacing the ??? with relevant traits from our objects:"
   ]
  },
  {
   "cell_type": "code",
   "execution_count": 28,
   "metadata": {
    "collapsed": false,
    "scrolled": true
   },
   "outputs": [],
   "source": [
    "d = {'type':'FeatureCollection', 'features':[]}"
   ]
  },
  {
   "cell_type": "code",
   "execution_count": 33,
   "metadata": {
    "collapsed": false
   },
   "outputs": [],
   "source": [
    "for entry in clipped_social.iterrows():\n",
    "    row = entry[1]\n",
    "    feature = {'type':'Feature'}\n",
    "    feature.update({'geometry':\n",
    "                    {'type': row['shapes'].type,\n",
    "                     'coordinates': list(test.xy)}})\n",
    "    feature.update({'properties':{field:row[field] for field in row.keys() if field != 'shapes'}}) #note Keys, not Columns\n",
    "    d['features'].append(feature)"
   ]
  },
  {
   "cell_type": "code",
   "execution_count": null,
   "metadata": {
    "collapsed": true
   },
   "outputs": [],
   "source": [
    "d"
   ]
  },
  {
   "cell_type": "markdown",
   "metadata": {},
   "source": [
    "For the first blank we were looking for, \"type\", we need to just understand that any `shapely` shape has a `type` attribute that will tell if the shape is a point, line, polygon, etc.\n",
    "\n",
    "For the second blank, we just have to know that each points in `shapely` have an `xy` attribute that records the points' coordinates. \n",
    "\n",
    "For the third blank, we are using a dictionary comprehension! We know that the properties of a feature is a dictionary where the key is the column name in our table and the value is the actual value of the row cell. So, we can use the dict comprehension to grab each field name and field value for the row we're iterating through. But, we don't want to store the shape's dimensions twice, so we avoid storing the `shapes` column. \n",
    "\n",
    "Again, the GeoJSON package removes some of this plumbing, but you would still have to understand how to build the GeoJSON feature collection!"
   ]
  },
  {
   "cell_type": "markdown",
   "metadata": {},
   "source": [
    "To export to a shapefile, we'd just do the reverse operations of what we did to build our `pandas` table!\n",
    "\n",
    "First, let's write the shapefile. To do this, we open our new file in `'w'` mode. Then, we'll peel off the `shapes` series and write each shape to our new file. \n",
    "\n",
    "First, though, we'll have to convert shapely shapes back to pysal shapes. This is very simple, as the `pysal.cg.shapes.asShape` function is designed to read and interpret structure as spatial data. "
   ]
  },
  {
   "cell_type": "code",
   "execution_count": 34,
   "metadata": {
    "collapsed": false
   },
   "outputs": [],
   "source": [
    "newshp = pysal.open('./sacramento/newsac.shp', 'w')"
   ]
  },
  {
   "cell_type": "code",
   "execution_count": 35,
   "metadata": {
    "collapsed": false
   },
   "outputs": [],
   "source": [
    "for element in clipped_social['shapes']:\n",
    "    outpoly = pysal.cg.shapes.asShape(element)\n",
    "    newshp.write(outpoly)"
   ]
  },
  {
   "cell_type": "code",
   "execution_count": 36,
   "metadata": {
    "collapsed": true
   },
   "outputs": [],
   "source": [
    "newshp.close()"
   ]
  },
  {
   "cell_type": "markdown",
   "metadata": {},
   "source": [
    "It's that simple to write the shapefile.\n",
    "\n",
    "Unfortunately, writing the dbf file is more complicated. We'd have to define a specification for the dataframe, set up the header, and then write the rows. The code to do this isn't **that** difficult, but it requires you to understand valid dbf specification types. So, let's look at the code in the [GeoDa Sandbox](https://github.com/GeoDaSandbox/sandbox/blob/master/pyGDsandbox/dataIO.py#L16), written by Daniel Arribas-Bel.\n",
    "\n",
    "We can just pull this code down."
   ]
  },
  {
   "cell_type": "code",
   "execution_count": 37,
   "metadata": {
    "collapsed": false
   },
   "outputs": [],
   "source": [
    "def df2dbf(df, dbf_path, my_specs=None):\n",
    "    '''\n",
    "    Convert a pandas.DataFrame into a dbf.\n",
    "    __author__ = \"Dani Arribas-Bel <darribas@asu.edu> \"\n",
    "    ...\n",
    "    Arguments\n",
    "    ---------\n",
    "    df        : DataFrame\n",
    "                Pandas dataframe object to be entirely written out to a dbf\n",
    "    dbf_path  : str\n",
    "                Path to the output dbf. It is also returned by the function\n",
    "    my_specs  : list\n",
    "                List with the field_specs to use for each column.\n",
    "                Defaults to None and applies the following scheme:\n",
    "                    * int: ('N', 14, 0)\n",
    "                    * float: ('N', 14, 14)\n",
    "                    * str: ('C', 14, 0)\n",
    "    '''\n",
    "    if my_specs:\n",
    "        specs = my_specs\n",
    "    else:\n",
    "        type2spec = {int: ('N', 20, 0),\n",
    "        numpy.int64: ('N', 20, 0),\n",
    "        float: ('N', 36, 15),\n",
    "        numpy.float64: ('N', 36, 15),\n",
    "        str: ('C', 14, 0)\n",
    "        }\n",
    "        types = [type(df[i].iloc[0]) for i in df.columns]\n",
    "        specs = [type2spec[t] for t in types]\n",
    "    db = pysal.open(dbf_path, 'w')\n",
    "    db.header = list(df.columns)\n",
    "    db.field_spec = specs\n",
    "    for i, row in df.T.iteritems():\n",
    "        db.write(row)\n",
    "    db.close()\n",
    "    return dbf_path"
   ]
  },
  {
   "cell_type": "markdown",
   "metadata": {},
   "source": [
    "And, using this, we can write our data. I'd also recommend not writing the 'shapes' column, as it's already contained in the shapefile. "
   ]
  },
  {
   "cell_type": "code",
   "execution_count": 41,
   "metadata": {
    "collapsed": false
   },
   "outputs": [
    {
     "data": {
      "text/plain": [
       "'./sacramento/newsac.dbf'"
      ]
     },
     "execution_count": 41,
     "metadata": {},
     "output_type": "execute_result"
    }
   ],
   "source": [
    "df2dbf(clipped_social.drop(['shapes' ,'schools'], axis=1), './sacramento/newsac.dbf')"
   ]
  },
  {
   "cell_type": "markdown",
   "metadata": {},
   "source": [
    "And this is how you would write from a pandas dataframe + shapely objects back to shapefile. "
   ]
  }
 ],
 "metadata": {
  "kernelspec": {
   "display_name": "Python 2",
   "language": "python",
   "name": "python2"
  },
  "language_info": {
   "codemirror_mode": {
    "name": "ipython",
    "version": 2
   },
   "file_extension": ".py",
   "mimetype": "text/x-python",
   "name": "python",
   "nbconvert_exporter": "python",
   "pygments_lexer": "ipython2",
   "version": "2.7.9"
  }
 },
 "nbformat": 4,
 "nbformat_minor": 0
}
